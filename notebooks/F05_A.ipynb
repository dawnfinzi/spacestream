{
 "cells": [
  {
   "cell_type": "code",
   "execution_count": null,
   "id": "583b4ba3",
   "metadata": {},
   "outputs": [],
   "source": [
    "%load_ext blackcellmagic"
   ]
  },
  {
   "cell_type": "markdown",
   "id": "0c430e12",
   "metadata": {},
   "source": [
    "#### Imports, setup and helper functions"
   ]
  },
  {
   "cell_type": "code",
   "execution_count": null,
   "id": "eb76fa4d",
   "metadata": {},
   "outputs": [],
   "source": [
    "import numpy as np\n",
    "import pandas as pd\n",
    "import deepdish as dd\n",
    "import h5py\n",
    "import nibabel.freesurfer.mghformat as mgh\n",
    "import matplotlib.pyplot as plt\n",
    "import seaborn as sns\n",
    "\n",
    "from scipy.stats import ttest_rel"
   ]
  },
  {
   "cell_type": "code",
   "execution_count": null,
   "id": "d6101705",
   "metadata": {},
   "outputs": [],
   "source": [
    "from spacestream.core.constants import SUBJECTS, CORE_ROI_NAMES, ROI_COLORS, DVA_PER_IMAGE\n",
    "from spacestream.core.paths import DATA_PATH, RESULTS_PATH\n",
    "from spacestream.utils.general_utils import sem\n",
    "from spacestream.utils.get_utils import get_mapping\n",
    "from spacestream.utils.array_utils import get_flat_indices"
   ]
  },
  {
   "cell_type": "code",
   "execution_count": null,
   "id": "ab7bccab",
   "metadata": {},
   "outputs": [],
   "source": [
    "seeds = [0,1,2,3,4]\n",
    "hemis = [\"lh\",\"rh\"]\n",
    "t_threshold=3\n",
    "checkpoint = \"checkpoint0\""
   ]
  },
  {
   "cell_type": "code",
   "execution_count": null,
   "id": "907a52c3",
   "metadata": {},
   "outputs": [],
   "source": [
    "def retinotopy(dims):\n",
    "    \"\"\"Polar angle of each unit, relative to the center of the tissue map\"\"\"\n",
    "    flat_indices = get_flat_indices(dims)\n",
    "    x_rfs = flat_indices.x_flat\n",
    "    y_rfs = flat_indices.y_flat\n",
    "\n",
    "    x_diff = x_rfs - np.mean(x_rfs)\n",
    "    y_diff = y_rfs - np.mean(y_rfs)\n",
    "\n",
    "    eccentricity = np.sqrt(x_diff**2 + y_diff**2)\n",
    "    polar_angle = np.arctan2(y_diff, x_diff)\n",
    "\n",
    "    # convert eccentricity to dva\n",
    "    num_taps = dims[-1]\n",
    "    dva_per_tap = DVA_PER_IMAGE / num_taps\n",
    "    eccentricity = eccentricity * dva_per_tap\n",
    "\n",
    "    # convert polar_angle to degrees\n",
    "    polar_angle = np.degrees(polar_angle)\n",
    "\n",
    "    return (eccentricity, polar_angle)"
   ]
  },
  {
   "cell_type": "markdown",
   "id": "92c71119",
   "metadata": {},
   "source": [
    "#### Load and format data"
   ]
  },
  {
   "cell_type": "code",
   "execution_count": null,
   "id": "e252c099",
   "metadata": {},
   "outputs": [],
   "source": [
    "# eccentricity by unit\n",
    "dims = (512, 7, 7)\n",
    "eccentricity, polar_angle = retinotopy(dims)"
   ]
  },
  {
   "cell_type": "code",
   "execution_count": null,
   "id": "9ec31ea3",
   "metadata": {},
   "outputs": [],
   "source": [
    "# model unit selectivity\n",
    "sel = np.load(RESULTS_PATH + \"analyses/selectivity/20230811_sel_arrays.npz\")\n",
    "meta = pd.read_csv(RESULTS_PATH + \"analyses/selectivity/20230811_sel_meta.csv\")\n",
    "\n",
    "faces = meta[(meta[\"contrast\"].isin([\"Faces\"])) & (meta[\"sel_fn\"].isin([\"t-stat\"]))]"
   ]
  },
  {
   "cell_type": "code",
   "execution_count": null,
   "id": "5f94c8d0",
   "metadata": {},
   "outputs": [],
   "source": [
    "data = {\"subject\": [], \"hemi\": [], \"seed\": [], \"stream\": [], \"eccen\": []}\n",
    "\n",
    "for seedx, model_seed in enumerate(seeds):\n",
    "    \n",
    "    #selectivity\n",
    "    idx = int(faces[(faces[\"spatial_weight\"].isin([0.25])) & (faces[\"seed\"].isin([seedx]))]['Unnamed: 0'])\n",
    "    face_selective = np.where(sel.f.arrays[idx]>t_threshold)[0] \n",
    "\n",
    "    for hidx, hemi in enumerate(hemis):\n",
    "        for sidx, subj in enumerate(SUBJECTS):\n",
    "            subj_name = \"subj\" + subj\n",
    "\n",
    "            mapping = get_mapping(\n",
    "                subj_name,\"unit2voxel\", \"0.25\", seedx, 0, hemi, checkpoint\n",
    "            )\n",
    "\n",
    "            for idx, stream in enumerate(CORE_ROI_NAMES):\n",
    "                eccen = np.mean(\n",
    "                    eccentricity[\n",
    "                        list(\n",
    "                            set(face_selective)\n",
    "                            & set(np.where(mapping[\"winning_roi\"] == 5+idx)[0])\n",
    "                        )\n",
    "                    ]\n",
    "                )\n",
    "\n",
    "                data[\"subject\"].append(subj)\n",
    "                data[\"hemi\"].append(hemi)\n",
    "                data[\"seed\"].append(model_seed)\n",
    "                data[\"stream\"].append(stream)\n",
    "                data[\"eccen\"].append(eccen)"
   ]
  },
  {
   "cell_type": "code",
   "execution_count": null,
   "id": "7e0fbecc",
   "metadata": {},
   "outputs": [],
   "source": [
    "df = pd.DataFrame(data)\n",
    "df_avg = pd.DataFrame(df.groupby([\"subject\",\"stream\"])[\"eccen\"].mean()).reset_index() #mean across seeds and hemis"
   ]
  },
  {
   "cell_type": "markdown",
   "id": "6d6e4962",
   "metadata": {},
   "source": [
    "#### Plotting"
   ]
  },
  {
   "cell_type": "code",
   "execution_count": null,
   "id": "838953c0",
   "metadata": {},
   "outputs": [],
   "source": [
    "ROI_COLORS = ['#377E2C', '#1A1AAC', '#8C1A4C']\n",
    "ROI_COLORS[1:][::-1]"
   ]
  },
  {
   "cell_type": "code",
   "execution_count": null,
   "id": "9e4b6baf",
   "metadata": {},
   "outputs": [],
   "source": [
    "sns.set_theme(style=\"ticks\")\n",
    "\n",
    "fig, ax = plt.subplots(figsize=(4,12))\n",
    "\n",
    "\n",
    "kwargs = {\n",
    "    \"size\": 9,\n",
    "}\n",
    "a=sns.stripplot(\n",
    "    x=\"stream\",\n",
    "    y=\"eccen\",\n",
    "    hue=\"stream\",\n",
    "    jitter = 0.1,\n",
    "    linewidth = 0.75,\n",
    "    edgecolor=\"w\",\n",
    "    palette=ROI_COLORS[1:][::-1],\n",
    "    data=df[(df[\"hemi\"].isin([\"rh\"])) & (df[\"stream\"].isin([\"Ventral\", \"Lateral\"]))],\n",
    "    order = [\"Lateral\", \"Ventral\"],\n",
    "    dodge=True,\n",
    "    **kwargs)\n",
    "\n",
    "b=sns.stripplot(\n",
    "    x=\"stream\",\n",
    "    y=\"eccen\",\n",
    "    hue=\"stream\",\n",
    "    jitter = 0.2,\n",
    "    linewidth = 1,\n",
    "    edgecolor=\"w\",\n",
    "    marker = \"^\",\n",
    "    palette=ROI_COLORS[1:][::-1],\n",
    "    data=df[(df[\"hemi\"].isin([\"lh\"])) & (df[\"stream\"].isin([\"Ventral\", \"Lateral\"]))],\n",
    "    order = [\"Lateral\", \"Ventral\"],\n",
    "    dodge=True,\n",
    "    **kwargs)\n",
    "c=sns.violinplot(\n",
    "    x=\"stream\",\n",
    "    y=\"eccen\",\n",
    "    hue=\"stream\",\n",
    "    fill=True,\n",
    "    linewidth=3,\n",
    "    #edgecolors=\"white\",\n",
    "    inner = 'box',\n",
    "    #jitter=0.2,\n",
    "    saturation=0.9,\n",
    "    palette=ROI_COLORS[1:][::-1],\n",
    "    data=df[(df[\"stream\"].isin([\"Ventral\", \"Lateral\"]))],\n",
    "    order = [\"Lateral\", \"Ventral\"],\n",
    "    dodge=False)\n",
    "    #**kwargs)\n",
    "\n",
    "plt.setp(c.collections, alpha=.85,edgecolor='white')\n",
    "\n",
    "\n",
    "\n",
    "ax.spines[\"right\"].set_visible(False)\n",
    "ax.spines[\"top\"].set_visible(False)\n",
    "ax.legend([],[], frameon=False)\n",
    "\n",
    "save_path = RESULTS_PATH + \"/figures/5a.png\"\n",
    "fig.savefig(save_path, dpi=100)"
   ]
  },
  {
   "cell_type": "markdown",
   "id": "b3e5d568",
   "metadata": {},
   "source": [
    "#### Statistics"
   ]
  },
  {
   "cell_type": "code",
   "execution_count": null,
   "id": "044bcd89",
   "metadata": {},
   "outputs": [],
   "source": [
    "lateral = df_avg[df_avg[\"stream\"].isin([\"Lateral\"])]['eccen']\n",
    "ventral = df_avg[df_avg[\"stream\"].isin([\"Ventral\"])]['eccen']"
   ]
  },
  {
   "cell_type": "code",
   "execution_count": null,
   "id": "8aac5508",
   "metadata": {},
   "outputs": [],
   "source": [
    "h,p = ttest_rel(lateral, ventral)\n",
    "print(h,p)"
   ]
  },
  {
   "cell_type": "code",
   "execution_count": null,
   "id": "7c10829d",
   "metadata": {},
   "outputs": [],
   "source": [
    "print(np.mean(lateral), np.std(lateral))\n",
    "print(np.mean(ventral), np.std(ventral))"
   ]
  },
  {
   "cell_type": "code",
   "execution_count": null,
   "id": "02b416c7",
   "metadata": {},
   "outputs": [],
   "source": []
  }
 ],
 "metadata": {
  "jupytext": {
   "formats": "ipynb,md"
  },
  "kernelspec": {
   "display_name": "spacestream_38",
   "language": "python",
   "name": "python3"
  },
  "language_info": {
   "codemirror_mode": {
    "name": "ipython",
    "version": 3
   },
   "file_extension": ".py",
   "mimetype": "text/x-python",
   "name": "python",
   "nbconvert_exporter": "python",
   "pygments_lexer": "ipython3",
   "version": "3.8.20"
  }
 },
 "nbformat": 4,
 "nbformat_minor": 5
}
