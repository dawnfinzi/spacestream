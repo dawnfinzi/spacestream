{
 "cells": [
  {
   "cell_type": "code",
   "execution_count": null,
   "id": "10229ed7",
   "metadata": {},
   "outputs": [],
   "source": [
    "%load_ext blackcellmagic"
   ]
  },
  {
   "cell_type": "markdown",
   "id": "7f01376a",
   "metadata": {},
   "source": [
    "#### Imports and setup"
   ]
  },
  {
   "cell_type": "code",
   "execution_count": null,
   "id": "c54bf0e7",
   "metadata": {},
   "outputs": [],
   "source": [
    "import deepdish as dd\n",
    "import pandas as pd\n",
    "import numpy as np\n",
    "\n",
    "import statsmodels.formula.api as sm\n",
    "from statsmodels.stats.multitest import multipletests"
   ]
  },
  {
   "cell_type": "code",
   "execution_count": null,
   "id": "2ea0ebfe",
   "metadata": {},
   "outputs": [],
   "source": [
    "from spacestream.core.constants import SUBJECTS, CORE_ROI_NAMES\n",
    "from spacestream.core.paths import RESULTS_PATH"
   ]
  },
  {
   "cell_type": "code",
   "execution_count": null,
   "id": "7ada99df",
   "metadata": {},
   "outputs": [],
   "source": [
    "seeds = [0,1,2,3,4]\n",
    "hemis = [\"lh\",\"rh\"]\n",
    "model_types = [\"MB_RN18\",\"TDANN_Supervised\",\"TDANN_Supervised_0.0\",\"TDANN_SimCLR\",  \"TDANN_SimCLR_0.0\",\"MB_RN50_v2\", \"MB_RN50\", \"MB_RN18\"]"
   ]
  },
  {
   "cell_type": "code",
   "execution_count": null,
   "id": "f427d857",
   "metadata": {},
   "outputs": [],
   "source": [
    "checkpoint_mb = \"0\"\n",
    "checkpoint_tdann = \"0VALIDATE\""
   ]
  },
  {
   "cell_type": "markdown",
   "id": "73cb16e1",
   "metadata": {},
   "source": [
    "#### Load and format data"
   ]
  },
  {
   "cell_type": "code",
   "execution_count": null,
   "id": "6bb4049e",
   "metadata": {},
   "outputs": [],
   "source": [
    "# read in data\n",
    "long = {\n",
    "    \"model_type\": [],\n",
    "    \"hemi\": [],\n",
    "    \"subject\": [],\n",
    "    \"seed\": [],\n",
    "    \"ROIS\": [],\n",
    "    \"result\": [],\n",
    "}\n",
    "for hidx, hemi in enumerate(hemis):\n",
    "\n",
    "    for tidx, mtype in enumerate(model_types):\n",
    "\n",
    "        if \"TDANN\" in mtype:\n",
    "            if mtype == \"TDANN_Supervised\":\n",
    "                sw_idx = 5 #2.5\n",
    "            elif mtype == \"TDANN_SimCLR\":\n",
    "                sw_idx = 2 #0.25\n",
    "            elif mtype == \"TDANN_SimCLR_0.0\" or mtype == \"TDANN_Supervised_0.0\":\n",
    "                sw_idx = 0\n",
    "            \n",
    "            for seedx, seed in enumerate(seeds):\n",
    "                smooth_path = (\n",
    "                    RESULTS_PATH\n",
    "                    + \"analyses/spatial/TDANNs/\"\n",
    "                    + \"smoothness_calc_by_stream_\"\n",
    "                    + (\"lh_\" if hemi == \"lh\" else \"\")\n",
    "                    + \"unit2voxel\"\n",
    "                    + (\"_supervised\" if \"Supervised\" in mtype else \"\")\n",
    "                    + ((\"_seed\" + str(seed)) if seed > 0 else \"\")\n",
    "                    + \"_correlations_by_unit_ckpt\"\n",
    "                    + checkpoint_tdann\n",
    "                    + \".hdf\"\n",
    "                )\n",
    "                u2v_smoothness = dd.io.load(smooth_path)\n",
    "                for sidx, subj in enumerate(SUBJECTS):\n",
    "\n",
    "                    for r in range(len(CORE_ROI_NAMES)):\n",
    "                        long[\"model_type\"].append(mtype)\n",
    "                        long[\"hemi\"].append(hemi)\n",
    "                        long[\"subject\"].append(subj)\n",
    "                        long[\"seed\"].append(seed)\n",
    "                        long[\"ROIS\"].append(CORE_ROI_NAMES[r])\n",
    "                        long[\"result\"].append(\n",
    "                            u2v_smoothness[\"thirddist_r\"][sw_idx, sidx, r]\n",
    "                        )\n",
    "            \n",
    "        else:\n",
    "            smooth_path = (\n",
    "                    RESULTS_PATH\n",
    "                    + \"analyses/spatial/MBs/\"\n",
    "                    + \"smoothness_calc_by_stream_\"\n",
    "                    + (\"lh_\" if hemi == \"lh\" else \"\")\n",
    "                    + \"unit2voxel\"\n",
    "                    + \"_correlations_by_unit_ckpt\"\n",
    "                    + checkpoint_mb\n",
    "                    + \".hdf\"\n",
    "                )\n",
    "            u2v_smoothness = dd.io.load(smooth_path)\n",
    "            if mtype == \"MB_RN50_v2\":\n",
    "                midx = 2\n",
    "            elif mtype == \"MB_RN50\":\n",
    "                midx = 1\n",
    "            elif mtype == \"MB_RN18\":\n",
    "                midx = 0\n",
    "            for sidx, subj in enumerate(SUBJECTS):\n",
    "\n",
    "                for r in range(len(CORE_ROI_NAMES)):\n",
    "                    long[\"model_type\"].append(mtype)\n",
    "                    long[\"hemi\"].append(hemi)\n",
    "                    long[\"subject\"].append(subj)\n",
    "                    long[\"seed\"].append(0)\n",
    "                    long[\"ROIS\"].append(CORE_ROI_NAMES[r])\n",
    "                    long[\"result\"].append(\n",
    "                        u2v_smoothness[\"thirddist_r\"][midx, sidx, r]\n",
    "                    )"
   ]
  },
  {
   "cell_type": "code",
   "execution_count": null,
   "id": "6ca4c342",
   "metadata": {},
   "outputs": [],
   "source": [
    "df = pd.DataFrame(long)\n",
    "#average across seeds\n",
    "df_avg = pd.DataFrame(df.groupby(['model_type', 'hemi', 'subject', 'ROIS'])['result'].mean()).reset_index()"
   ]
  },
  {
   "cell_type": "code",
   "execution_count": null,
   "id": "89edcf5a",
   "metadata": {},
   "outputs": [],
   "source": [
    "s2s_data = np.zeros((8,7,3,len(hemis), len(seeds)))\n",
    "\n",
    "for hidx, hemi in enumerate(hemis):\n",
    "    for sidx, seed in enumerate(seeds):\n",
    "        smooth_path = (\n",
    "                    RESULTS_PATH\n",
    "                    + \"analyses/spatial/brains/\"\n",
    "                    + \"smoothness_calc_by_stream_\"\n",
    "                    + (\"lh_\" if hemi == \"lh\" else \"\")\n",
    "                    + \"voxel2voxel\"\n",
    "                    + ((\"_seed\" + str(seed)) if seed > 0 else \"\")\n",
    "                    + \"_correlations_by_unit_ckpt\"\n",
    "                    + checkpoint_tdann\n",
    "                    + \".hdf\"\n",
    "                )\n",
    "        v2v_smoothness = dd.io.load(smooth_path)\n",
    "        s2s_data[:,:,:,hidx,sidx] = v2v_smoothness[\"thirddist_r\"]\n",
    "        \n",
    "del v2v_smoothness\n",
    "\n",
    "s2s = np.mean(np.mean(s2s_data, axis=-1), axis=-1)\n",
    "s2s = np.mean(s2s,axis=1)"
   ]
  },
  {
   "cell_type": "code",
   "execution_count": null,
   "id": "33e0cf34",
   "metadata": {},
   "outputs": [],
   "source": [
    "# Reformat data\n",
    "rows = []\n",
    "for i, roi in enumerate(CORE_ROI_NAMES):\n",
    "    for j, subject in enumerate(SUBJECTS):\n",
    "        rows.append({\"subject\": subject, \"ROI\": roi, \"result\": s2s[j, i]})\n",
    "s2s_reformatted = pd.DataFrame(rows)"
   ]
  },
  {
   "cell_type": "code",
   "execution_count": null,
   "id": "8fa63394",
   "metadata": {},
   "outputs": [],
   "source": [
    "# Save the dataframes for matlab plotting function\n",
    "# matlab/F02_B.m\n",
    "\n",
    "s2s_reformatted.to_csv('/oak/stanford/groups/kalanit/biac2/kgs/projects/Dawn/SpaceStreamPaper/Revision/code/new_Fig2b_noiseCeiling_ckpt0.csv', index=False)\n",
    "df_avg.to_csv('/oak/stanford/groups/kalanit/biac2/kgs/projects/Dawn/SpaceStreamPaper/Revision/code/new_Fig2b_dataFrame_checkpoint0.csv', index=False)"
   ]
  },
  {
   "cell_type": "markdown",
   "id": "a719be4b",
   "metadata": {},
   "source": [
    "#### Statistics"
   ]
  },
  {
   "cell_type": "code",
   "execution_count": null,
   "id": "38b259fe",
   "metadata": {},
   "outputs": [],
   "source": [
    "# Cat & SimCLR Cat included in figure for visualization purposes but statistics are\n",
    "# run on the spatial constraints vs. multiple behaviors comparisons\n",
    "# i.e. MB v1 RN50, MB v2 RN50, MB v1 RN18, TDANN Supervised, TDANN SimCLR\n",
    "# All statistics are collapsed across the two hemispheres given the minimal \n",
    "# hemispheric differences (and no corresponding hypotheses re hemispheres)\n",
    "df = df[~df[\"model_type\"].isin([\"TDANN_Supervised_0.0\", \"TDANN_SimCLR_0.0\"])]"
   ]
  },
  {
   "cell_type": "code",
   "execution_count": null,
   "id": "7a3a29e4",
   "metadata": {},
   "outputs": [],
   "source": [
    "#set up separate models by ROI\n",
    "dorsal_df = df_avg[df_avg[\"ROIS\"]==\"Dorsal\"]\n",
    "lateral_df = df_avg[df_avg[\"ROIS\"]==\"Lateral\"]\n",
    "ventral_df = df_avg[df_avg[\"ROIS\"]==\"Ventral\"]"
   ]
  },
  {
   "cell_type": "code",
   "execution_count": null,
   "id": "496b8bce",
   "metadata": {},
   "outputs": [],
   "source": [
    "# Dorsal\n",
    "dorsal_mod = sm.mixedlm('result~model_type', data = dorsal_df, groups=dorsal_df[\"subject\"]).fit()\n",
    "print(dorsal_mod.summary())\n",
    "\n",
    "res = pd.concat([dorsal_mod.params,dorsal_mod.pvalues],axis=1)\n",
    "res.columns=['coefficient','pvalues']\n",
    "print(res)\n",
    "res = res[res.index.str.contains('model_type')]\n",
    "res['corrected_p'] = multipletests(res['pvalues'],method=\"bonferroni\")[1]\n",
    "print(res)"
   ]
  },
  {
   "cell_type": "code",
   "execution_count": null,
   "id": "aead7c0d",
   "metadata": {},
   "outputs": [],
   "source": [
    "# Lateral\n",
    "lateral_mod = sm.mixedlm('result~model_type', data = lateral_df, groups=lateral_df[\"subject\"]).fit()\n",
    "print(lateral_mod.summary())\n",
    "\n",
    "res = pd.concat([lateral_mod.params,lateral_mod.pvalues],axis=1)\n",
    "res.columns=['coefficient','pvalues']\n",
    "print(res)\n",
    "\n",
    "res = res[res.index.str.contains('model_type')]\n",
    "\n",
    "res['corrected_p'] = multipletests(res['pvalues'],method=\"bonferroni\")[1]\n",
    "print(res)"
   ]
  },
  {
   "cell_type": "code",
   "execution_count": null,
   "id": "a2adab02",
   "metadata": {},
   "outputs": [],
   "source": [
    "# Ventral\n",
    "ventral_mod = sm.mixedlm('result~model_type', data = ventral_df, groups=ventral_df[\"subject\"]).fit()\n",
    "print(ventral_mod.summary())\n",
    "\n",
    "res = pd.concat([ventral_mod.params,ventral_mod.pvalues],axis=1)\n",
    "res.columns=['coefficient','pvalues']\n",
    "print(res)\n",
    "\n",
    "res = res[res.index.str.contains('model_type')]\n",
    "\n",
    "res['corrected_p'] = multipletests(res['pvalues'],method=\"bonferroni\")[1]\n",
    "print(res)"
   ]
  }
 ],
 "metadata": {
  "jupytext": {
   "formats": "ipynb,md"
  },
  "kernelspec": {
   "display_name": "spacestream_38",
   "language": "python",
   "name": "python3"
  },
  "language_info": {
   "codemirror_mode": {
    "name": "ipython",
    "version": 3
   },
   "file_extension": ".py",
   "mimetype": "text/x-python",
   "name": "python",
   "nbconvert_exporter": "python",
   "pygments_lexer": "ipython3",
   "version": "3.8.20"
  }
 },
 "nbformat": 4,
 "nbformat_minor": 5
}
