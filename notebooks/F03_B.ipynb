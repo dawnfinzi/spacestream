{
 "cells": [
  {
   "cell_type": "code",
   "execution_count": null,
   "id": "583b4ba3",
   "metadata": {},
   "outputs": [],
   "source": [
    "%load_ext blackcellmagic"
   ]
  },
  {
   "cell_type": "markdown",
   "id": "0c430e12",
   "metadata": {},
   "source": [
    "#### Imports and setup"
   ]
  },
  {
   "cell_type": "code",
   "execution_count": null,
   "id": "eb76fa4d",
   "metadata": {},
   "outputs": [],
   "source": [
    "import numpy as np\n",
    "import pandas as pd\n",
    "import deepdish as dd\n",
    "import h5py\n",
    "import nibabel.freesurfer.mghformat as mgh\n",
    "import matplotlib.pyplot as plt\n",
    "import seaborn as sns\n",
    "\n",
    "from statsmodels.stats.anova import AnovaRM"
   ]
  },
  {
   "cell_type": "code",
   "execution_count": null,
   "id": "d6101705",
   "metadata": {},
   "outputs": [],
   "source": [
    "from spacestream.core.constants import SUBJECTS, CORE_ROI_NAMES\n",
    "from spacestream.core.paths import DATA_PATH, RESULTS_PATH\n",
    "from spacestream.utils.general_utils import sem\n",
    "from spacestream.utils.get_utils import get_mapping"
   ]
  },
  {
   "cell_type": "code",
   "execution_count": null,
   "id": "ab7bccab",
   "metadata": {},
   "outputs": [],
   "source": [
    "seeds = [0,1,2,3,4]\n",
    "hemis = [\"lh\",\"rh\"]\n",
    "sw_list = [\n",
    "            \"0.0\",\n",
    "            \"0.1\",\n",
    "            \"0.25\",\n",
    "            \"0.5\",\n",
    "            \"1.25\",\n",
    "            \"2.5\",\n",
    "            \"25.0\",\n",
    "        ]\n",
    "sup_case = [\"simCLR\", \"supervised\"]\n",
    "colors = {}\n",
    "colors[\"simCLR\"], colors[\"supervised\"] = \"#720298\", \"#B59410\""
   ]
  },
  {
   "cell_type": "markdown",
   "id": "734fb570",
   "metadata": {},
   "source": [
    "### Top panel - distance similarity (r)"
   ]
  },
  {
   "cell_type": "markdown",
   "id": "92c71119",
   "metadata": {},
   "source": [
    "#### Load and format data"
   ]
  },
  {
   "cell_type": "code",
   "execution_count": null,
   "id": "5f94c8d0",
   "metadata": {},
   "outputs": [],
   "source": [
    "data = np.zeros((len(sup_case), len(sw_list), len(seeds)))\n",
    "full_results = {\n",
    "    \"Version\": [],\n",
    "    \"Spatial_Weight\": [],\n",
    "    \"Stream\": [],\n",
    "    \"Seed\": [],\n",
    "    \"Subject\": [],\n",
    "    \"Hemi\": [],\n",
    "    \"Corr\": [],\n",
    "}\n",
    "for hemi in hemis:\n",
    "    for sidx, seed in enumerate(seeds):\n",
    "        for supx, sup_str in enumerate(sup_case):\n",
    "            smooth_path = (\n",
    "                RESULTS_PATH\n",
    "                + \"analyses/spatial/TDANNs/\"\n",
    "                + \"smoothness_calc_by_stream_\"\n",
    "                + (\"lh_\" if hemi == \"lh\" else \"\")\n",
    "                + \"unit2voxel\"\n",
    "                + (\"_supervised\" if sup_str == \"supervised\" else \"\")\n",
    "                + ((\"_seed\" + str(seed)) if seed > 0 else \"\")\n",
    "                + \"_correlations_by_unit_ckptfinal.hdf\"\n",
    "            )\n",
    "\n",
    "            u2v_smoothness = dd.io.load(smooth_path)\n",
    "            for i in range(len(sw_list)):\n",
    "                for j in range(len(SUBJECTS)):\n",
    "\n",
    "                    for streamx, stream in enumerate(CORE_ROI_NAMES):\n",
    "                        full_results[\"Version\"].append(str(supx))\n",
    "                        full_results[\"Seed\"].append(str(sidx))\n",
    "                        full_results[\"Hemi\"].append(hemi)\n",
    "                        full_results[\"Spatial_Weight\"].append(float(sw_list[i]))\n",
    "                        full_results[\"Stream\"].append(stream)\n",
    "                        full_results[\"Subject\"].append(SUBJECTS[j])\n",
    "                        full_results[\"Corr\"].append(\n",
    "                            u2v_smoothness[\"thirddist_r\"][i, j, streamx]\n",
    "                        )"
   ]
  },
  {
   "cell_type": "code",
   "execution_count": null,
   "id": "7e0fbecc",
   "metadata": {},
   "outputs": [],
   "source": [
    "df = pd.DataFrame(full_results)"
   ]
  },
  {
   "cell_type": "code",
   "execution_count": null,
   "id": "d8e36e7c",
   "metadata": {},
   "outputs": [],
   "source": [
    "s2s_data = np.zeros((8,7,3,len(hemis), len(seeds)))\n",
    "\n",
    "for hidx, hemi in enumerate(hemis):\n",
    "    for sidx, seed in enumerate(seeds):\n",
    "        smooth_path = (\n",
    "                    RESULTS_PATH\n",
    "                    + \"analyses/spatial/brains/\"\n",
    "                    + \"smoothness_calc_by_stream_\"\n",
    "                    + (\"lh_\" if hemi == \"lh\" else \"\")\n",
    "                    + \"voxel2voxel\"\n",
    "                    + ((\"_seed\" + str(seed)) if seed > 0 else \"\")\n",
    "                    + \"_correlations_by_unit_ckptfinal.hdf\"\n",
    "                )\n",
    "        v2v_smoothness = dd.io.load(smooth_path)\n",
    "        s2s_data[:,:,:,hidx,sidx] = v2v_smoothness[\"thirddist_r\"]\n",
    "        \n",
    "del v2v_smoothness\n",
    "\n",
    "s2s = np.mean(np.mean(s2s_data, axis=-1), axis=-1)"
   ]
  },
  {
   "cell_type": "code",
   "execution_count": null,
   "id": "8a24e818",
   "metadata": {},
   "outputs": [],
   "source": [
    "df"
   ]
  },
  {
   "cell_type": "code",
   "execution_count": null,
   "id": "1fb13e51",
   "metadata": {},
   "outputs": [],
   "source": [
    "df.to_csv('/share/kalanit/users/dfinzi/Desktop/processed_spacestream_csvs/F03_B.csv', index=False)  "
   ]
  },
  {
   "cell_type": "code",
   "execution_count": null,
   "id": "e1ff7f0b",
   "metadata": {},
   "outputs": [],
   "source": [
    "np.mean(s2s,axis=1)"
   ]
  },
  {
   "cell_type": "markdown",
   "id": "6d6e4962",
   "metadata": {},
   "source": [
    "#### Plotting"
   ]
  },
  {
   "cell_type": "code",
   "execution_count": null,
   "id": "9e4b6baf",
   "metadata": {},
   "outputs": [],
   "source": [
    "# log plot version\n",
    "sns.set_theme(style=\"ticks\")\n",
    "\n",
    "line_kwargs = {\n",
    "    \"marker\": \".\",\n",
    "    \"markersize\": 25,\n",
    "    \"lw\": 1,\n",
    "    \"markeredgecolor\": \"w\",\n",
    "    \"markeredgewidth\": 2,\n",
    "}\n",
    "\n",
    "for streamx, stream in enumerate(CORE_ROI_NAMES):\n",
    "    fig, ax = plt.subplots(figsize=(3, 5))\n",
    "    sns.lineplot(\n",
    "        df[df[\"Stream\"].isin([stream])],\n",
    "        x=\"Spatial_Weight\",\n",
    "        y=\"Corr\",\n",
    "        hue=\"Version\",\n",
    "        palette=[colors[\"simCLR\"], colors[\"supervised\"]],\n",
    "        errorbar=\"se\",\n",
    "        **line_kwargs\n",
    "    )\n",
    "    ax.set_xscale(\"symlog\", linthresh=0.09)\n",
    "    ax.set_xlim([-0.01, 50])\n",
    "    ax.set_xticks([], minor=True)\n",
    "    ax.set_xticks([0, 0.1, 0.25, 0.5, 1.25, 2.5, 25])\n",
    "    ax.set_xticklabels([0, 0.1, \"\", \"\", 1.25, \"\", 25])\n",
    "\n",
    "    y1 = np.mean(np.mean(np.squeeze(s2s[:, :, streamx]), axis=1)) + np.std(\n",
    "        np.mean(np.squeeze(s2s[:, :, streamx]), axis=1)\n",
    "    )\n",
    "    y2 = np.mean(np.mean(np.squeeze(s2s[:, :, streamx]), axis=1)) - np.std(\n",
    "        np.mean(np.squeeze(s2s[:, :, streamx]), axis=1)\n",
    "    )\n",
    "    ax.axhspan(y1, y2, xmin=0, xmax=1, color=\"lightgray\", alpha=0.75)\n",
    "\n",
    "    h, l = ax.get_legend_handles_labels()\n",
    "    if streamx == 2:\n",
    "        ax.legend(h, [\"Self-supervised\", \"Supervised\"])\n",
    "    else:\n",
    "        ax.legend([], [], frameon=False)\n",
    "\n",
    "    ax.set_xlabel(\"Spatial Weight\", fontsize=20)\n",
    "    ax.set_ylabel(\"Correlation\", fontsize=20)\n",
    "    ax.set_yticks([])\n",
    "    ax.spines[\"left\"].set_visible(False)\n",
    "    ax.spines[\"right\"].set_visible(False)\n",
    "    ax.spines[\"top\"].set_visible(False)\n",
    "\n",
    "    plt.ylim(bottom=0.0, top=0.5)\n",
    "    plt.show()\n",
    "\n",
    "    save_path = RESULTS_PATH + \"/figures/3b_top_\" + stream + \"_\" + \"_despined_SD.png\"\n",
    "    fig.savefig(save_path, dpi=100)"
   ]
  },
  {
   "cell_type": "markdown",
   "id": "b3e5d568",
   "metadata": {},
   "source": [
    "#### Statistics"
   ]
  },
  {
   "cell_type": "code",
   "execution_count": null,
   "id": "044bcd89",
   "metadata": {},
   "outputs": [],
   "source": [
    "dorsal = df[df[\"Stream\"].isin([\"Dorsal\"])]\n",
    "lateral = df[df[\"Stream\"].isin([\"Lateral\"])]\n",
    "ventral = df[df[\"Stream\"].isin([\"Ventral\"])]"
   ]
  },
  {
   "cell_type": "code",
   "execution_count": null,
   "id": "2c9eb014",
   "metadata": {},
   "outputs": [],
   "source": [
    "aovrm = AnovaRM(dorsal, 'Corr', 'Subject', within=['Spatial_Weight','Version'], aggregate_func='mean')\n",
    "res = aovrm.fit()\n",
    "print(res.anova_table.to_latex())"
   ]
  },
  {
   "cell_type": "code",
   "execution_count": null,
   "id": "03853f51",
   "metadata": {},
   "outputs": [],
   "source": [
    "aovrm = AnovaRM(lateral, 'Corr', 'Subject', within=['Spatial_Weight','Version'], aggregate_func='mean')\n",
    "res = aovrm.fit()\n",
    "print(res.anova_table.to_latex())"
   ]
  },
  {
   "cell_type": "code",
   "execution_count": null,
   "id": "dcff1531",
   "metadata": {},
   "outputs": [],
   "source": [
    "aovrm = AnovaRM(ventral, 'Corr', 'Subject', within=['Spatial_Weight','Version'], aggregate_func='mean')\n",
    "res = aovrm.fit()\n",
    "print(res.anova_table.to_latex())"
   ]
  },
  {
   "cell_type": "markdown",
   "id": "afa11257",
   "metadata": {},
   "source": [
    "### Bottom panel - functional similarity (r)"
   ]
  },
  {
   "cell_type": "markdown",
   "id": "a5339467",
   "metadata": {},
   "source": [
    "#### Load and format data"
   ]
  },
  {
   "cell_type": "code",
   "execution_count": null,
   "id": "de004319",
   "metadata": {},
   "outputs": [],
   "source": [
    "def correct_for_voxel_noise_ceiling(NC, mapping):\n",
    "\n",
    "    brain_r = np.sqrt(\n",
    "        NC[mapping[\"winning_idx\"].astype(int)] / 100\n",
    "    )  # convert from R^2 to r\n",
    "    mapping[\"winning_roi\"] = mapping[\"winning_roi\"].astype(np.float32)\n",
    "\n",
    "    if np.sum(np.isinf(mapping[\"winning_test_corr\"])) > 0:\n",
    "        mapping[\"winning_test_corr\"][np.isinf(info[\"winning_test_corr\"])] = np.nan\n",
    "\n",
    "    corrected = mapping[\"winning_test_corr\"] / brain_r\n",
    "    corrected[mapping[\"winning_test_corr\"] == 0] = np.nan\n",
    "\n",
    "    return corrected"
   ]
  },
  {
   "cell_type": "code",
   "execution_count": null,
   "id": "6ea9a84c",
   "metadata": {},
   "outputs": [],
   "source": [
    "full_results = {\"Hemi\": [], \"Subject\": [], \"Stream\": [], \"Seed\": [], \"Version\": [], \"Spatial_Weight\": [], \"Corr\": []}\n",
    "corr_perf = np.empty(\n",
    "    (\n",
    "        len(hemis),\n",
    "        len(SUBJECTS),\n",
    "        len(CORE_ROI_NAMES),\n",
    "        len(seeds),\n",
    "        len(sup_case),\n",
    "        len(sw_list),\n",
    "    )\n",
    ")\n",
    "corr_perf[:] = np.nan\n",
    "\n",
    "for hidx, hemi in enumerate(hemis):\n",
    "    for sidx, subj in enumerate(SUBJECTS):\n",
    "\n",
    "        # get ROI info\n",
    "        mgh_file = mgh.load(DATA_PATH + \"brains/\" + hemi + \".ministreams.mgz\")\n",
    "        streams = mgh_file.get_fdata()[:, 0, 0].astype(int)\n",
    "        # get noise ceiling estimates\n",
    "        mgh_file = mgh.load(\n",
    "            DATA_PATH + \"brains/NC/subj\" + subj + \"/\" + hemi + \".nc_3trials.mgh\"\n",
    "        )\n",
    "        NC = mgh_file.get_fdata()[:, 0, 0]\n",
    "        NC_trim = NC[streams != 0]\n",
    "        NC_trim[NC_trim == 0] = np.nan  # Set all 0s to nans to avoid dividing by 0\n",
    "\n",
    "        for vidx, version in enumerate(sup_case):\n",
    "\n",
    "            if version == \"supervised\":\n",
    "                v_str = version\n",
    "                supervised = 1\n",
    "            else:\n",
    "                v_str = \"self_supervised\"\n",
    "                supervised = 0\n",
    "\n",
    "            for widx, weight in enumerate(sw_list):\n",
    "\n",
    "                for midx, seed in enumerate(seeds):\n",
    "                    mapping = get_mapping(\n",
    "                        subj_name=\"subj\" + str(subj),\n",
    "                        spatial_weight=weight,\n",
    "                        model_seed=seed,\n",
    "                        supervised=supervised,\n",
    "                        hemi=hemi,\n",
    "                    )\n",
    "                    corrected = correct_for_voxel_noise_ceiling(NC_trim, mapping)\n",
    "\n",
    "                    for ridx, r in enumerate(CORE_ROI_NAMES):\n",
    "                        corr_perf[hidx, sidx, ridx, midx, vidx, widx] = np.nanmean(\n",
    "                            corrected[mapping[\"winning_roi\"] == ridx + 5]\n",
    "                        )\n",
    "                        full_results[\"Version\"].append(v_str)\n",
    "                        full_results[\"Spatial_Weight\"].append(float(weight))\n",
    "                        full_results[\"Seed\"].append(seed)\n",
    "                        full_results[\"Subject\"].append(subj)\n",
    "                        full_results[\"Stream\"].append(r)\n",
    "                        full_results[\"Hemi\"].append(hemi)\n",
    "                        full_results[\"Corr\"].append(\n",
    "                            corr_perf[hidx, sidx, ridx, midx, vidx, widx]\n",
    "                        )"
   ]
  },
  {
   "cell_type": "code",
   "execution_count": null,
   "id": "075250ae",
   "metadata": {},
   "outputs": [],
   "source": [
    "df = pd.DataFrame(full_results)\n",
    "df"
   ]
  },
  {
   "cell_type": "code",
   "execution_count": null,
   "id": "ab1a016b",
   "metadata": {},
   "outputs": [],
   "source": [
    "df.to_csv('/share/kalanit/users/dfinzi/Desktop/processed_spacestream_csvs/F03_B_func.csv', index=False)  "
   ]
  },
  {
   "cell_type": "code",
   "execution_count": null,
   "id": "b129ba10",
   "metadata": {},
   "outputs": [],
   "source": [
    "## load subject2subject estimates\n",
    "s2s_corrected_by_stream= np.zeros((len(SUBJECTS),len(seeds),len(CORE_ROI_NAMES), len(hemis)))\n",
    "\n",
    "for hidx, hemi in enumerate(hemis):\n",
    "    \n",
    "    for sidx, subj in enumerate(SUBJECTS):\n",
    "\n",
    "        for seedix, seed in enumerate(seeds):\n",
    "\n",
    "            load_path = (RESULTS_PATH\n",
    "                            + \"mappings/one_to_one/voxel2voxel/target_subj\"\n",
    "                            + subj\n",
    "                            + \"/mode_\"\n",
    "                            + hemi\n",
    "                            + \"_ministreams_HVA_only_radius5_max_iters100_constant_radius_2.0dist_cutoff_constant_dist_cutoff_spherical\"\n",
    "                            + (\"_CV_seed\" + str(seed))\n",
    "                            + \"_final_voxel2voxel_correlation_info.hdf5\"\n",
    "                        )\n",
    "            with h5py.File(load_path, \"r\") as f:\n",
    "\n",
    "                for r, ridx in enumerate(CORE_ROI_NAMES):\n",
    "                    s2s_corrected_by_stream[sidx,seedix,r,hidx] =  np.nanmean(f['corrected_test_corr'][:][f['winning_roi'][:] == r+5])\n",
    "across_seed_corrected_mean = np.mean(np.mean(s2s_corrected_by_stream,axis=-1),axis=1)"
   ]
  },
  {
   "cell_type": "code",
   "execution_count": null,
   "id": "8376237d",
   "metadata": {},
   "outputs": [],
   "source": [
    "across_seed_corrected_mean"
   ]
  },
  {
   "cell_type": "markdown",
   "id": "4b232b95",
   "metadata": {},
   "source": [
    "#### Plotting"
   ]
  },
  {
   "cell_type": "code",
   "execution_count": null,
   "id": "e44f4e45",
   "metadata": {},
   "outputs": [],
   "source": [
    "for ridx, stream in enumerate(CORE_ROI_NAMES):\n",
    "    fig, ax = plt.subplots(figsize = (3,5))\n",
    "\n",
    "    sns.lineplot(\n",
    "        df[df[\"Stream\"].isin([stream])],\n",
    "        x=\"Spatial_Weight\",\n",
    "        y=\"Corr\",\n",
    "        hue=\"Version\",\n",
    "        palette=[colors[\"simCLR\"], colors[\"supervised\"]],\n",
    "        errorbar='se',\n",
    "        **line_kwargs\n",
    "    )\n",
    "    ax.set_xscale(\"symlog\", linthresh=0.09)\n",
    "    ax.set_xlim([-0.01, 50])\n",
    "    ax.set_xticks([], minor=True)\n",
    "    ax.set_xticks([0, 0.1, 0.25, 0.5, 1.25, 2.5, 25])\n",
    "    ax.set_xticklabels([0, 0.1, \"\", \"\", 1.25, \"\", 25])\n",
    "\n",
    "    xmin = 0\n",
    "    xmax = 1\n",
    "    vals = across_seed_corrected_mean[:,ridx]\n",
    "    y1 = np.mean(vals) - np.std(vals)\n",
    "    y2 = np.mean(vals) + np.std(vals)\n",
    "    ax.axhspan(y1, y2, xmin=xmin, xmax=xmax, color=\"lightgray\", alpha=0.75)\n",
    "    ax.legend([],[], frameon=False)\n",
    "\n",
    "    ax.set_xlabel(\"Spatial Weight\", fontsize=20)\n",
    "    ax.set_ylabel(\"Correlation\", fontsize=20)\n",
    "    ax.set_yticks([])\n",
    "    plt.ylim(bottom=0.0, top=0.5)\n",
    "\n",
    "    ax.spines[\"right\"].set_visible(False)\n",
    "    ax.spines[\"left\"].set_visible(False)\n",
    "    ax.spines[\"top\"].set_visible(False)\n",
    "\n",
    "\n",
    "    plt.show()\n",
    "\n",
    "    save_path = RESULTS_PATH + \"/figures/3b_bottom_\" + stream + \"_\" + \"_despined_SD.png\"\n",
    "    fig.savefig(save_path, dpi=100)"
   ]
  },
  {
   "cell_type": "markdown",
   "id": "6667ada9",
   "metadata": {},
   "source": [
    "#### Statistics"
   ]
  },
  {
   "cell_type": "code",
   "execution_count": null,
   "id": "0259e7a3",
   "metadata": {},
   "outputs": [],
   "source": [
    "dorsal_func = df[df[\"Stream\"].isin([\"Dorsal\"])]\n",
    "lateral_func = df[df[\"Stream\"].isin([\"Lateral\"])]\n",
    "ventral_func = df[df[\"Stream\"].isin([\"Ventral\"])]"
   ]
  },
  {
   "cell_type": "code",
   "execution_count": null,
   "id": "d0efef78",
   "metadata": {},
   "outputs": [],
   "source": [
    "aovrm = AnovaRM(dorsal_func, 'Corr', 'Subject', within=['Spatial_Weight','Version'], aggregate_func='mean')\n",
    "res = aovrm.fit()\n",
    "print(res.anova_table.to_latex())"
   ]
  },
  {
   "cell_type": "code",
   "execution_count": null,
   "id": "c027f6c6",
   "metadata": {},
   "outputs": [],
   "source": [
    "aovrm = AnovaRM(lateral_func, 'Corr', 'Subject', within=['Spatial_Weight','Version'], aggregate_func='mean')\n",
    "res = aovrm.fit()\n",
    "print(res.anova_table.to_latex())"
   ]
  },
  {
   "cell_type": "code",
   "execution_count": null,
   "id": "7c10829d",
   "metadata": {},
   "outputs": [],
   "source": [
    "aovrm = AnovaRM(ventral_func, 'Corr', 'Subject', within=['Spatial_Weight','Version'], aggregate_func='mean')\n",
    "res = aovrm.fit()\n",
    "print(res.anova_table.to_latex())"
   ]
  },
  {
   "cell_type": "code",
   "execution_count": null,
   "id": "02b416c7",
   "metadata": {},
   "outputs": [],
   "source": []
  }
 ],
 "metadata": {
  "jupytext": {
   "formats": "ipynb,md"
  },
  "kernelspec": {
   "display_name": "spacestream",
   "language": "python",
   "name": "spacestream"
  },
  "language_info": {
   "codemirror_mode": {
    "name": "ipython",
    "version": 3
   },
   "file_extension": ".py",
   "mimetype": "text/x-python",
   "name": "python",
   "nbconvert_exporter": "python",
   "pygments_lexer": "ipython3",
   "version": "3.7.17"
  }
 },
 "nbformat": 4,
 "nbformat_minor": 5
}
