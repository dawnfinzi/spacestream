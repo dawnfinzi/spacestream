{
 "cells": [
  {
   "cell_type": "code",
   "execution_count": null,
   "id": "583b4ba3",
   "metadata": {},
   "outputs": [],
   "source": [
    "%load_ext blackcellmagic"
   ]
  },
  {
   "cell_type": "markdown",
   "id": "0c430e12",
   "metadata": {},
   "source": [
    "#### Imports and setup"
   ]
  },
  {
   "cell_type": "code",
   "execution_count": null,
   "id": "eb76fa4d",
   "metadata": {},
   "outputs": [],
   "source": [
    "import numpy as np\n",
    "import pandas as pd\n",
    "import deepdish as dd\n",
    "import h5py\n",
    "import nibabel.freesurfer.mghformat as mgh\n",
    "import matplotlib.pyplot as plt\n",
    "import seaborn as sns\n",
    "\n",
    "from statsmodels.stats.anova import AnovaRM"
   ]
  },
  {
   "cell_type": "code",
   "execution_count": null,
   "id": "d6101705",
   "metadata": {},
   "outputs": [],
   "source": [
    "from spacestream.core.constants import SUBJECTS, CORE_ROI_NAMES\n",
    "from spacestream.core.paths import DATA_PATH, NSDDATA_PATH, RESULTS_PATH\n",
    "from spacestream.utils.general_utils import sem\n",
    "from spacestream.utils.get_utils import get_mapping"
   ]
  },
  {
   "cell_type": "code",
   "execution_count": null,
   "id": "ab7bccab",
   "metadata": {},
   "outputs": [],
   "source": [
    "seeds = [0,1,2,3,4]\n",
    "hemis = [\"lh\",\"rh\"]\n",
    "sw_list = [\n",
    "            \"0.0\",\n",
    "            \"0.1\",\n",
    "            \"0.25\",\n",
    "            \"0.5\",\n",
    "            \"1.25\",\n",
    "            \"2.5\",\n",
    "            \"25.0\",\n",
    "        ]\n",
    "sup_case = [\"simCLR\", \"supervised\"]\n",
    "colors = {}\n",
    "colors[\"simCLR\"], colors[\"supervised\"] = \"#720298\", \"#B59410\""
   ]
  },
  {
   "cell_type": "markdown",
   "id": "a5339467",
   "metadata": {},
   "source": [
    "#### Load and format data"
   ]
  },
  {
   "cell_type": "code",
   "execution_count": null,
   "id": "de004319",
   "metadata": {},
   "outputs": [],
   "source": [
    "def reject_outliers(data, m=3.):\n",
    "    d = np.abs(data - np.nanmean(data))\n",
    "    mdev = np.nanmean(d)\n",
    "    s = d / (mdev if mdev else 1.)\n",
    "    return data[s < m]"
   ]
  },
  {
   "cell_type": "code",
   "execution_count": null,
   "id": "ae535742",
   "metadata": {},
   "outputs": [],
   "source": [
    "all_nc = [\n",
    "    [[[] for j in range(len(CORE_ROI_NAMES))] for i in range(len(SUBJECTS))]\n",
    "    for h in range(len(hemis))\n",
    "]\n",
    "all_s2s_rs = [\n",
    "    [[[] for j in range(len(CORE_ROI_NAMES))] for i in range(len(SUBJECTS))]\n",
    "    for h in range(len(hemis))\n",
    "]\n",
    "all_rs = [\n",
    "    [\n",
    "        [\n",
    "            [[[] for m in range(len(sw_list))] for s in range(len(sup_case))]\n",
    "            for j in range(len(CORE_ROI_NAMES))\n",
    "        ]\n",
    "        for i in range(len(SUBJECTS))\n",
    "    ]\n",
    "    for h in range(len(hemis))\n",
    "]\n",
    "\n",
    "\n",
    "for hidx, hemi in enumerate(hemis):\n",
    "    for sidx, sid in enumerate(SUBJECTS):\n",
    "\n",
    "        # get ROI info\n",
    "        mgh_file = mgh.load(\n",
    "            NSDDATA_PATH\n",
    "            + \"nsddata/freesurfer/subj\"\n",
    "            + sid\n",
    "            + \"/label/\"\n",
    "            + hemi\n",
    "            + \".streams_shrink10.mgz\"\n",
    "        )\n",
    "        streams = mgh_file.get_fdata()[:, 0, 0]\n",
    "        streams_trim = streams[streams != 0]\n",
    "        # get noise ceiling estimates\n",
    "        mgh_file = mgh.load(\n",
    "            NSDDATA_PATH\n",
    "            + \"/nsddata_betas/ppdata/subj\"\n",
    "            + sid\n",
    "            + \"/nativesurface/betas_fithrf_GLMdenoise_RR/\"\n",
    "            + hemi\n",
    "            + \".nc_3trials.mgh\"\n",
    "        )\n",
    "        NC = mgh_file.get_fdata()[:, 0, 0]\n",
    "        NC_trim = NC[streams != 0]\n",
    "        NC_trim[NC_trim == 0] = np.nan  # Set all 0s to nans to avoid dividing by 0\n",
    "\n",
    "        for r in range(len(CORE_ROI_NAMES)):\n",
    "            all_nc[hidx][sidx][r] = NC_trim[streams_trim == r + 5] / 100\n",
    "\n",
    "        # Get subject 2 subject mapping estimates\n",
    "        load_path = (\n",
    "            RESULTS_PATH\n",
    "            + \"mappings/regression/brain2brain/subj\"\n",
    "            + sid\n",
    "            + \"_\"\n",
    "            + hemi\n",
    "            + \"_streams_shrink10_to_streams_shrink10_Ridge_1CV_10splits__subsample_10000voxels_subsamptype1_pooled1.hdf5\"\n",
    "        )\n",
    "        rsquared_array = {}\n",
    "        with h5py.File(load_path, \"r\") as f:\n",
    "            keys = f.keys()\n",
    "            for k in keys:\n",
    "                rsquared_array[k] = f[k][:]\n",
    "        for r, roin in enumerate(\n",
    "            CORE_ROI_NAMES\n",
    "        ):  # use only the corresponding ROI as source results\n",
    "            if roin == \"Dorsal\":\n",
    "                roin = \"Parietal\" #old naming convention\n",
    "            all_s2s_rs[hidx][sidx][r] = rsquared_array[roin][streams_trim == r + 5]\n",
    "\n",
    "        for supidx, sup in enumerate(sup_case):\n",
    "            for swidx, sw_name in enumerate(sw_list):\n",
    "\n",
    "                if sup == \"simCLR\":\n",
    "                    model_name = \"spacetorch\"\n",
    "                else:\n",
    "                    model_name = \"spacetorch_supervised\"\n",
    "\n",
    "                # get model fits\n",
    "                load_path = (\n",
    "                    RESULTS_PATH\n",
    "                    + \"mappings/regression/model2brain/subj\"\n",
    "                    + sid\n",
    "                    + \"_\"\n",
    "                    + hemi\n",
    "                    + \"_streams_shrink10_\"\n",
    "                    + model_name\n",
    "                    + sw_name\n",
    "                    + \"_base_model.layer4.1_Ridge_subsample_2_1CV_1pretraining_fits.hdf5\"\n",
    "                )\n",
    "\n",
    "                fits = {}\n",
    "                with h5py.File(load_path, \"r\") as f:\n",
    "                    keys = f.keys()\n",
    "                    for k in keys:\n",
    "                        fits[k] = f[k][:]\n",
    "\n",
    "                max_rs = fits[\"base_model.layer4.1\"]\n",
    "                for r in range(len(CORE_ROI_NAMES)):\n",
    "                    all_rs[hidx][sidx][r][supidx][swidx] = max_rs[streams_trim == r + 5]"
   ]
  },
  {
   "cell_type": "code",
   "execution_count": null,
   "id": "6ea9a84c",
   "metadata": {},
   "outputs": [],
   "source": [
    "corrected_means = np.empty(\n",
    "    (len(hemis), len(SUBJECTS), len(CORE_ROI_NAMES), len(sup_case), len(sw_list))\n",
    ")\n",
    "normed_s2s = np.empty((len(hemis), len(SUBJECTS), len(CORE_ROI_NAMES)))\n",
    "\n",
    "for hidx, hemi in enumerate(hemis):\n",
    "    for sidx, sid in enumerate(SUBJECTS):\n",
    "\n",
    "        normed_s2s[hidx, sidx] = [\n",
    "            np.nanmean(\n",
    "                reject_outliers(all_s2s_rs[hidx][sidx][r] / all_nc[hidx][sidx][r])\n",
    "            )\n",
    "            for r in range(len(CORE_ROI_NAMES))\n",
    "        ]\n",
    "\n",
    "        for supidx, model_name in enumerate(sup_case):\n",
    "\n",
    "            for midx, sw_name in enumerate(sw_list):\n",
    "\n",
    "                for r in range(len(CORE_ROI_NAMES)):\n",
    "                    corrected_means[hidx][sidx][r][supidx][midx] = np.nanmean(\n",
    "                        reject_outliers(\n",
    "                            all_rs[hidx][sidx][r][supidx][midx] / all_nc[hidx][sidx][r]\n",
    "                        )\n",
    "                    )\n",
    "                    \n",
    "#average across hemis\n",
    "total_means = np.mean(corrected_means, axis=0)"
   ]
  },
  {
   "cell_type": "code",
   "execution_count": null,
   "id": "b129ba10",
   "metadata": {},
   "outputs": [],
   "source": [
    "dataframes = {}\n",
    "\n",
    "for ridx, r in enumerate(CORE_ROI_NAMES):\n",
    "    print(ridx)\n",
    "\n",
    "    d = {\n",
    "        \"subject_name\": np.concatenate(\n",
    "            (\n",
    "                np.tile(\"subj01\", len(sw_list) * len(sup_case)),\n",
    "                np.tile(\"subj02\", len(sw_list) * len(sup_case)),\n",
    "                np.tile(\"subj03\", len(sw_list) * len(sup_case)),\n",
    "                np.tile(\"subj04\", len(sw_list) * len(sup_case)),\n",
    "                np.tile(\"subj05\", len(sw_list) * len(sup_case)),\n",
    "                np.tile(\"subj06\", len(sw_list) * len(sup_case)),\n",
    "                np.tile(\"subj07\", len(sw_list) * len(sup_case)),\n",
    "                np.tile(\"subj08\", len(sw_list) * len(sup_case)),\n",
    "            )\n",
    "        ),\n",
    "        \"spatial_weight\": np.tile([float(sw) for sw in sw_list], len(SUBJECTS) * len(sup_case)),\n",
    "        \"version\": np.ravel(\n",
    "            np.tile(\n",
    "                np.ravel([np.tile(m, len(sw_list)) for m in sup_case]),\n",
    "                len(SUBJECTS),\n",
    "            )\n",
    "        ),\n",
    "        \"means\": (total_means[:, ridx, :]).ravel(),\n",
    "    }\n",
    "    dataframes[r] = pd.DataFrame(\n",
    "        d, columns=[\"subject_name\", \"spatial_weight\", \"version\", \"means\"]\n",
    "    )"
   ]
  },
  {
   "cell_type": "markdown",
   "id": "4b232b95",
   "metadata": {},
   "source": [
    "#### Plotting"
   ]
  },
  {
   "cell_type": "code",
   "execution_count": null,
   "id": "e44f4e45",
   "metadata": {},
   "outputs": [],
   "source": [
    "sns.set_theme(style=\"ticks\")\n",
    "line_kwargs = {\"marker\": \".\", \"markersize\": 25, \"lw\": 1, 'markeredgecolor': 'w', 'markeredgewidth': 2}\n",
    "\n",
    "for ridx, stream in enumerate(CORE_ROI_NAMES):\n",
    "    fig, ax = plt.subplots(figsize = (3,5))\n",
    "\n",
    "    sns.lineplot(\n",
    "        data=dataframes[stream],\n",
    "        x=\"spatial_weight\",\n",
    "        y=\"means\",\n",
    "        hue=\"version\",\n",
    "        palette=[colors[\"simCLR\"], colors[\"supervised\"]],\n",
    "        errorbar='se',\n",
    "        **line_kwargs\n",
    "    )\n",
    "    ax.set_xscale(\"symlog\", linthresh=0.09)\n",
    "    ax.set_xlim([-0.01, 50])\n",
    "    ax.set_xticks([], minor=True)\n",
    "    ax.set_xticks([0, 0.1, 0.25, 0.5, 1.25, 2.5, 25])\n",
    "    ax.set_xticklabels([0, 0.1, \"\", \"\", 1.25, \"\", 25])\n",
    "    \n",
    "    xmin = 0\n",
    "    xmax = 1\n",
    "    vals = normed_s2s[:,ridx]\n",
    "    y1 = np.mean(vals) - np.std(vals)\n",
    "    y2 = np.mean(vals) + np.std(vals)\n",
    "    ax.axhspan(y1, y2, xmin=0, xmax=1, color=\"lightgray\", alpha=0.75)\n",
    "    \n",
    "    ax.legend([],[], frameon=False)\n",
    "\n",
    "    ax.set_xlabel(\"Spatial Weight\", fontsize=20)\n",
    "    ax.set_ylabel(\"Correlation\", fontsize=20)\n",
    "    plt.ylim(bottom=0.0, top=0.8)\n",
    "\n",
    "    ax.set_yticks([])\n",
    "    ax.spines[\"left\"].set_visible(False)\n",
    "    ax.spines[\"right\"].set_visible(False)\n",
    "    ax.spines[\"top\"].set_visible(False)\n",
    "\n",
    "\n",
    "    plt.show()\n",
    "\n",
    "    save_path = RESULTS_PATH + \"/figures/3d_\" + stream + \"_\" + \"_despined_SD.png\"\n",
    "    fig.savefig(save_path, dpi=100)"
   ]
  },
  {
   "cell_type": "markdown",
   "id": "6667ada9",
   "metadata": {},
   "source": [
    "#### Statistics"
   ]
  },
  {
   "cell_type": "code",
   "execution_count": null,
   "id": "d0efef78",
   "metadata": {},
   "outputs": [],
   "source": [
    "aovrm = AnovaRM(dataframes[\"Dorsal\"],'means', 'subject_name', within=['spatial_weight','version'], aggregate_func='mean')\n",
    "res = aovrm.fit()\n",
    "print(res.anova_table.to_latex())"
   ]
  },
  {
   "cell_type": "code",
   "execution_count": null,
   "id": "c027f6c6",
   "metadata": {},
   "outputs": [],
   "source": [
    "aovrm = AnovaRM(dataframes[\"Lateral\"],'means', 'subject_name', within=['spatial_weight','version'], aggregate_func='mean')\n",
    "res = aovrm.fit()\n",
    "print(res.anova_table.to_latex())"
   ]
  },
  {
   "cell_type": "code",
   "execution_count": null,
   "id": "7c10829d",
   "metadata": {},
   "outputs": [],
   "source": [
    "aovrm = AnovaRM(dataframes[\"Ventral\"],'means', 'subject_name', within=['spatial_weight','version'], aggregate_func='mean')\n",
    "res = aovrm.fit()\n",
    "print(res.anova_table.to_latex())"
   ]
  },
  {
   "cell_type": "code",
   "execution_count": null,
   "id": "424b005b",
   "metadata": {},
   "outputs": [],
   "source": [
    "v0 = dataframes['Ventral'][dataframes['Ventral']['spatial_weight']==0.0]\n",
    "v0"
   ]
  },
  {
   "cell_type": "code",
   "execution_count": null,
   "id": "02b416c7",
   "metadata": {},
   "outputs": [],
   "source": [
    "np.mean(v0[v0['version']==\"simCLR\"]['means'])"
   ]
  },
  {
   "cell_type": "code",
   "execution_count": null,
   "id": "79bc7b4c",
   "metadata": {},
   "outputs": [],
   "source": [
    "np.std(v0[v0['version']==\"simCLR\"]['means'])"
   ]
  },
  {
   "cell_type": "code",
   "execution_count": null,
   "id": "d5e8dcd7",
   "metadata": {},
   "outputs": [],
   "source": [
    "np.mean(v0[v0['version']==\"supervised\"]['means'])"
   ]
  },
  {
   "cell_type": "code",
   "execution_count": null,
   "id": "b6606643",
   "metadata": {},
   "outputs": [],
   "source": [
    "np.std(v0[v0['version']==\"supervised\"]['means'])"
   ]
  },
  {
   "cell_type": "code",
   "execution_count": null,
   "id": "63c0234e",
   "metadata": {},
   "outputs": [],
   "source": []
  }
 ],
 "metadata": {
  "jupytext": {
   "formats": "ipynb,md"
  },
  "kernelspec": {
   "display_name": "spacestream",
   "language": "python",
   "name": "spacestream"
  },
  "language_info": {
   "codemirror_mode": {
    "name": "ipython",
    "version": 3
   },
   "file_extension": ".py",
   "mimetype": "text/x-python",
   "name": "python",
   "nbconvert_exporter": "python",
   "pygments_lexer": "ipython3",
   "version": "3.7.17"
  }
 },
 "nbformat": 4,
 "nbformat_minor": 5
}
