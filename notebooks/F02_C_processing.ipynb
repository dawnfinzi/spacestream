{
 "cells": [
  {
   "cell_type": "code",
   "execution_count": null,
   "id": "be06d23d",
   "metadata": {},
   "outputs": [],
   "source": [
    "%load_ext blackcellmagic\n",
    "%load_ext autoreload\n",
    "%autoreload 2"
   ]
  },
  {
   "cell_type": "markdown",
   "id": "16e0d658",
   "metadata": {},
   "source": [
    "#### Imports and setup"
   ]
  },
  {
   "cell_type": "code",
   "execution_count": null,
   "id": "24d46e96",
   "metadata": {},
   "outputs": [],
   "source": [
    "import numpy as np\n",
    "import pandas as pd\n",
    "import h5py\n",
    "import nibabel.freesurfer.mghformat as mgh\n",
    "\n",
    "import statsmodels.formula.api as sm\n",
    "from statsmodels.stats.multitest import multipletests\n",
    "from scipy.stats import ttest_rel"
   ]
  },
  {
   "cell_type": "code",
   "execution_count": null,
   "id": "cc5cfd2a",
   "metadata": {},
   "outputs": [],
   "source": [
    "from spacestream.core.constants import SUBJECTS, CORE_ROI_NAMES, ROI_COLORS\n",
    "from spacestream.core.paths import DATA_PATH, RESULTS_PATH\n",
    "from spacestream.utils.general_utils import sem\n",
    "from spacestream.utils.get_utils import get_mapping"
   ]
  },
  {
   "cell_type": "code",
   "execution_count": null,
   "id": "a0c1effd",
   "metadata": {},
   "outputs": [],
   "source": [
    "seeds = [0,1,2,3,4]\n",
    "hemis = [\"lh\",\"rh\"]\n",
    "model_types = [\n",
    "    \"MB_RN50_v2\",\n",
    "    \"MB_RN50\",\n",
    "    \"MB_RN18\",\n",
    "    \"TDANN_Supervised\",\n",
    "    \"TDANN_Supervised_0.0\",\n",
    "    \"TDANN_SimCLR\",\n",
    "    \"TDANN_SimCLR_0.0\",\n",
    "]\n",
    "checkpoint = \"checkpoint0\""
   ]
  },
  {
   "cell_type": "markdown",
   "id": "62d9872b",
   "metadata": {},
   "source": [
    "#### Load and format data"
   ]
  },
  {
   "cell_type": "code",
   "execution_count": null,
   "id": "f2609e24",
   "metadata": {},
   "outputs": [],
   "source": [
    "def correct_for_voxel_noise_ceiling(NC, mapping):\n",
    "\n",
    "    brain_r = np.sqrt(\n",
    "        NC[mapping[\"winning_idx\"].astype(int)] / 100\n",
    "    )  # convert from R^2 to r\n",
    "    mapping[\"winning_roi\"] = mapping[\"winning_roi\"].astype(np.float32)\n",
    "\n",
    "    if np.sum(np.isinf(mapping[\"winning_test_corr\"])) > 0:\n",
    "        mapping[\"winning_test_corr\"][np.isinf(mapping[\"winning_test_corr\"])] = np.nan\n",
    "\n",
    "    corrected = mapping[\"winning_test_corr\"] / brain_r\n",
    "    corrected[mapping[\"winning_test_corr\"] == 0] = np.nan\n",
    "\n",
    "    return corrected"
   ]
  },
  {
   "cell_type": "code",
   "execution_count": null,
   "id": "38dc28bc",
   "metadata": {},
   "outputs": [],
   "source": [
    "# read in data\n",
    "mlong = {\n",
    "    \"model_type\": [],\n",
    "    \"hemi\": [],\n",
    "    \"subject\": [],\n",
    "    \"ROIS\": [],\n",
    "    \"result\": [],\n",
    "}\n",
    "\n",
    "\n",
    "for hidx, hemi in enumerate(hemis):\n",
    "\n",
    "    for sidx, subj in enumerate(SUBJECTS):\n",
    "\n",
    "        # get ROI info\n",
    "        mgh_file = mgh.load(DATA_PATH + \"brains/\" + hemi + \".ministreams.mgz\")\n",
    "        streams = mgh_file.get_fdata()[:, 0, 0].astype(int)\n",
    "        # get noise ceiling estimates\n",
    "        mgh_file = mgh.load(\n",
    "            DATA_PATH + \"brains/NC/subj\" + subj + \"/\" + hemi + \".nc_3trials.mgh\"\n",
    "        )\n",
    "        NC = mgh_file.get_fdata()[:, 0, 0]\n",
    "        NC_trim = NC[streams != 0]\n",
    "        NC_trim[NC_trim == 0] = np.nan  # Set all 0s to nans to avoid dividing by 0\n",
    "\n",
    "        for mtype in model_types:\n",
    "\n",
    "            if \"TDANN\" in mtype:\n",
    "                supervised = 1 if \"Supervised\" in mtype else 0\n",
    "                sw = \"0.0\" if \"0.0\" in mtype else \"2.5\" if \"Supervised\" in mtype else \"0.25\"\n",
    "  \n",
    "                temp_by_seed = np.zeros((len(seeds),3))\n",
    "                for midx, seed in enumerate(seeds):\n",
    "                    mapping = get_mapping(\n",
    "                        subj_name=\"subj\" + str(subj),\n",
    "                        spatial_weight=sw,\n",
    "                        model_seed=seed,\n",
    "                        supervised=supervised,\n",
    "                        hemi=hemi,\n",
    "                        checkpoint=checkpoint,\n",
    "                    )\n",
    "                    corrected = correct_for_voxel_noise_ceiling(NC_trim, mapping)\n",
    "                    for ridx, r in enumerate(CORE_ROI_NAMES):\n",
    "                        temp_by_seed[midx, ridx] = np.nanmean(\n",
    "                            corrected[mapping[\"winning_roi\"] == ridx + 5]\n",
    "                        )\n",
    "\n",
    "            else:  # not TDANNs\n",
    "                mapping = get_mapping(\n",
    "                    subj_name=\"subj\" + str(subj),\n",
    "                    model_seed=0,\n",
    "                    hemi=hemi,\n",
    "                    model_type = \"MB18\" if \"18\" in mtype else \"MB50_v2\" if \"50_v2\" in mtype else \"MB50\",\n",
    "                    checkpoint=checkpoint,\n",
    "                )\n",
    "\n",
    "                corrected = correct_for_voxel_noise_ceiling(NC_trim, mapping)\n",
    "\n",
    "            for ridx, r in enumerate(CORE_ROI_NAMES):\n",
    "                mlong[\"model_type\"].append(mtype)\n",
    "                mlong[\"hemi\"].append(hemi)\n",
    "                mlong[\"subject\"].append(subj)\n",
    "                mlong[\"ROIS\"].append(r)\n",
    "\n",
    "                if \"MB\" not in mtype:\n",
    "                    mlong[\"result\"].append(\n",
    "                        np.nanmean(\n",
    "                            temp_by_seed[:,ridx],\n",
    "                            axis=0,\n",
    "                        )\n",
    "                    )  # mean across seeds\n",
    "\n",
    "                else:\n",
    "                    mlong[\"result\"].append(\n",
    "                        np.nanmean(\n",
    "                            corrected[\n",
    "                                (mapping[\"winning_roi\"] == ridx + 5)\n",
    "                            ]\n",
    "                        )\n",
    "                    )"
   ]
  },
  {
   "cell_type": "code",
   "execution_count": null,
   "id": "f9da6867",
   "metadata": {},
   "outputs": [],
   "source": [
    "df = pd.DataFrame(mlong)\n",
    "df = df.sort_values('ROIS') #just to get the plotting order right later"
   ]
  },
  {
   "cell_type": "code",
   "execution_count": null,
   "id": "1adf3216",
   "metadata": {},
   "outputs": [],
   "source": [
    "d18 = np.mean(df[(df['model_type'] == 'MB_RN18') & (df['ROIS'] == \"Dorsal\")]['result'])\n",
    "v18 = np.mean(df[(df['model_type'] == 'MB_RN18') & (df['ROIS'] == \"Ventral\")]['result'])\n",
    "l18 = np.mean(df[(df['model_type'] == 'MB_RN18') & (df['ROIS'] == \"Lateral\")]['result'])\n",
    "\n",
    "tdannss_d = np.mean(df[(df['model_type'] == 'TDANN_SimCLR') & (df['ROIS'] == \"Dorsal\")]['result'])\n",
    "tdannss_v = np.mean(df[(df['model_type'] == 'TDANN_SimCLR') & (df['ROIS'] == \"Ventral\")]['result'])\n",
    "tdannss_l = np.mean(df[(df['model_type'] == 'TDANN_SimCLR') & (df['ROIS'] == \"Lateral\")]['result'])"
   ]
  },
  {
   "cell_type": "code",
   "execution_count": null,
   "id": "812c5257",
   "metadata": {},
   "outputs": [],
   "source": [
    "print((tdannss_d-d18)/d18)\n",
    "print((tdannss_v-v18)/v18)\n",
    "print((tdannss_l-l18)/l18)"
   ]
  },
  {
   "cell_type": "code",
   "execution_count": null,
   "id": "8002ced2",
   "metadata": {},
   "outputs": [],
   "source": [
    "## load subject2subject estimates\n",
    "s2s_corrected_by_stream= np.zeros((len(SUBJECTS),len(seeds),len(CORE_ROI_NAMES), len(hemis)))\n",
    "\n",
    "for hidx, hemi in enumerate(hemis):\n",
    "    \n",
    "    for sidx, subj in enumerate(SUBJECTS):\n",
    "\n",
    "        for seedix, seed in enumerate(seeds):\n",
    "\n",
    "            load_path = (RESULTS_PATH\n",
    "                            + \"mappings/one_to_one/voxel2voxel/target_subj\"\n",
    "                            + subj\n",
    "                            + \"/mode_\"\n",
    "                            + hemi\n",
    "                            + \"_ministreams_HVA_only_radius5_max_iters100_constant_radius_2.0dist_cutoff_constant_dist_cutoff_spherical\"\n",
    "                            + (\"_CV_seed\" + str(seed))\n",
    "                            + \"_\"\n",
    "                            + checkpoint\n",
    "                            + \"_voxel2voxel_correlation_info.hdf5\"\n",
    "                        )\n",
    "            with h5py.File(load_path, \"r\") as f:\n",
    "\n",
    "                for r, ridx in enumerate(CORE_ROI_NAMES):\n",
    "                    s2s_corrected_by_stream[sidx,seedix,r,hidx] =  np.nanmean(f['corrected_test_corr'][:][f['winning_roi'][:] == (2-r)+5])\n",
    "across_seed_corrected_mean = np.mean(np.mean(s2s_corrected_by_stream,axis=-1),axis=1)"
   ]
  },
  {
   "cell_type": "code",
   "execution_count": null,
   "id": "c9257930",
   "metadata": {},
   "outputs": [],
   "source": [
    "across_seed_corrected_mean"
   ]
  },
  {
   "cell_type": "code",
   "execution_count": null,
   "id": "f9777746",
   "metadata": {},
   "outputs": [],
   "source": [
    "# Reformat data\n",
    "rows = []\n",
    "for i, roi in enumerate(CORE_ROI_NAMES[::-1]):\n",
    "    for j, subject in enumerate(SUBJECTS):\n",
    "        rows.append({\"subject\": subject, \"ROI\": roi, \"result\": across_seed_corrected_mean[j, i]})\n",
    "s2s_reformatted = pd.DataFrame(rows)"
   ]
  },
  {
   "cell_type": "code",
   "execution_count": null,
   "id": "f4003023",
   "metadata": {},
   "outputs": [],
   "source": [
    "# Save the dataframes for matlab plotting function\n",
    "# matlab/F02_C.m\n",
    "\n",
    "s2s_reformatted.to_csv('/oak/stanford/groups/kalanit/biac2/kgs/projects/Dawn/SpaceStreamPaper/Revision/code/new_Fig2c_noiseCeiling_checkpoint0.csv', index=False)\n",
    "df.to_csv('/oak/stanford/groups/kalanit/biac2/kgs/projects/Dawn/SpaceStreamPaper/Revision/code/new_Fig2c_dataFrame_checkpoint0.csv', index=False)\n"
   ]
  },
  {
   "cell_type": "markdown",
   "id": "d0883494",
   "metadata": {},
   "source": [
    "#### Statistics"
   ]
  },
  {
   "cell_type": "code",
   "execution_count": null,
   "id": "b36cbed5",
   "metadata": {},
   "outputs": [],
   "source": [
    "# Cat & SimCLR Cat included in figure for visualization purposes but statistics are\n",
    "# run on the spatial constraints vs. multiple behaviors comparisons\n",
    "# i.e. MB v1 RN50, MB v2 RN50, MB v1 RN18, TDANN Supervised, TDANN SimCLR\n",
    "df = df[~df[\"model_type\"].isin([\"TDANN_Supervised_0.0\", \"TDANN_SimCLR_0.0\"])]"
   ]
  },
  {
   "cell_type": "code",
   "execution_count": null,
   "id": "f788687e",
   "metadata": {},
   "outputs": [],
   "source": [
    "d_sub = across_seed_corrected_mean[:,0]\n",
    "l_sub = across_seed_corrected_mean[:,1]\n",
    "v_sub = across_seed_corrected_mean[:,2]"
   ]
  },
  {
   "cell_type": "code",
   "execution_count": null,
   "id": "fc582aad",
   "metadata": {},
   "outputs": [],
   "source": [
    "# set up separate models by ROI\n",
    "dorsal_df = df[df[\"ROIS\"] == \"Dorsal\"]\n",
    "lateral_df = df[df[\"ROIS\"] == \"Lateral\"]\n",
    "ventral_df = df[df[\"ROIS\"] == \"Ventral\"]"
   ]
  },
  {
   "cell_type": "code",
   "execution_count": null,
   "id": "46ef5206",
   "metadata": {},
   "outputs": [],
   "source": [
    "# collapsed across hemispheres, like subject2subject noise ceiling\n",
    "d_m = dorsal_df[dorsal_df[\"model_type\"]==\"MB_RN18\"].groupby('subject')['result'].mean().reset_index()['result']\n",
    "l_m = lateral_df[lateral_df[\"model_type\"]==\"MB_RN18\"].groupby('subject')['result'].mean().reset_index()['result']\n",
    "v_m = ventral_df[ventral_df[\"model_type\"]==\"MB_RN18\"].groupby('subject')['result'].mean().reset_index()['result']"
   ]
  },
  {
   "cell_type": "code",
   "execution_count": null,
   "id": "f66c4c11",
   "metadata": {},
   "outputs": [],
   "source": [
    "# bonferroni correction between num possible comparisons against the noise ceiling\n",
    "# 5 models (MB RN50 v2, MB RN50, MB RN18, TDANN Supervised, TDANN SimCLR) * 3 ROIs (Dorsal, Lateral, Ventral)\n",
    "correct_by = 5 * 3"
   ]
  },
  {
   "cell_type": "code",
   "execution_count": null,
   "id": "0291f050",
   "metadata": {},
   "outputs": [],
   "source": [
    "# MB v1 RN18 has the highest functional correspondence, so this tests the smallest difference\n",
    "# between an MB model and the noise ceiling\n",
    "print(ttest_rel(d_m,d_sub)[1]*correct_by)\n",
    "print(ttest_rel(l_m,l_sub)[1]*correct_by)\n",
    "print(ttest_rel(v_m,v_sub)[1]*correct_by)"
   ]
  },
  {
   "cell_type": "code",
   "execution_count": null,
   "id": "f86b9d35",
   "metadata": {},
   "outputs": [],
   "source": [
    "# Dorsal\n",
    "dorsal_mod = sm.mixedlm('result~model_type', data = dorsal_df, groups=dorsal_df[\"subject\"]).fit()\n",
    "print(dorsal_mod.summary())\n",
    "\n",
    "res = pd.concat([dorsal_mod.params,dorsal_mod.pvalues],axis=1)\n",
    "res.columns=['coefficient','pvalues']\n",
    "print(res)\n",
    "res = res[res.index.str.contains('model_type')]\n",
    "res['corrected_p'] = multipletests(res['pvalues'],method=\"bonferroni\")[1]\n",
    "print(res)"
   ]
  },
  {
   "cell_type": "code",
   "execution_count": null,
   "id": "afc70109",
   "metadata": {},
   "outputs": [],
   "source": [
    "# Lateral\n",
    "lateral_mod = sm.mixedlm('result~model_type', data = lateral_df, groups=lateral_df[\"subject\"]).fit()\n",
    "print(lateral_mod.summary())\n",
    "\n",
    "res = pd.concat([lateral_mod.params,lateral_mod.pvalues],axis=1)\n",
    "res.columns=['coefficient','pvalues']\n",
    "print(res)\n",
    "\n",
    "res = res[res.index.str.contains('model_type')]\n",
    "\n",
    "res['corrected_p'] = multipletests(res['pvalues'],method=\"bonferroni\")[1]\n",
    "print(res)"
   ]
  },
  {
   "cell_type": "code",
   "execution_count": null,
   "id": "e94e1587",
   "metadata": {},
   "outputs": [],
   "source": [
    "# Ventral\n",
    "ventral_mod = sm.mixedlm('result~model_type', data = ventral_df, groups=ventral_df[\"subject\"]).fit()\n",
    "print(ventral_mod.summary())\n",
    "\n",
    "res = pd.concat([ventral_mod.params,ventral_mod.pvalues],axis=1)\n",
    "res.columns=['coefficient','pvalues']\n",
    "print(res)\n",
    "\n",
    "res = res[res.index.str.contains('model_type')]\n",
    "\n",
    "res['corrected_p'] = multipletests(res['pvalues'],method=\"bonferroni\")[1]\n",
    "print(res)"
   ]
  },
  {
   "cell_type": "code",
   "execution_count": null,
   "id": "45ed24c5",
   "metadata": {},
   "outputs": [],
   "source": [
    "d_tdann_simclr = dorsal_df[dorsal_df[\"model_type\"]==\"TDANN_SimCLR\"].groupby('subject')['result'].mean().reset_index()['result']\n",
    "l_tdann_simclr = lateral_df[lateral_df[\"model_type\"]==\"TDANN_SimCLR\"].groupby('subject')['result'].mean().reset_index()['result']\n",
    "v_tdann_simclr = ventral_df[ventral_df[\"model_type\"]==\"TDANN_SimCLR\"].groupby('subject')['result'].mean().reset_index()['result']"
   ]
  },
  {
   "cell_type": "code",
   "execution_count": null,
   "id": "ff9911ab",
   "metadata": {},
   "outputs": [],
   "source": [
    "d_tdann_sup = dorsal_df[dorsal_df[\"model_type\"]==\"TDANN_Supervised\"].groupby('subject')['result'].mean().reset_index()['result']\n",
    "l_tdann_sup = lateral_df[lateral_df[\"model_type\"]==\"TDANN_Supervised\"].groupby('subject')['result'].mean().reset_index()['result']\n",
    "v_tdann_sup = ventral_df[ventral_df[\"model_type\"]==\"TDANN_Supervised\"].groupby('subject')['result'].mean().reset_index()['result']"
   ]
  },
  {
   "cell_type": "code",
   "execution_count": null,
   "id": "9bd59f5e",
   "metadata": {},
   "outputs": [],
   "source": [
    "# Bonferroni correction for number of possible comparisons between models\n",
    "# (10 ways to choose 2 from 5 models) * 3 streams\n",
    "correct_by = 10 * 3"
   ]
  },
  {
   "cell_type": "code",
   "execution_count": null,
   "id": "95592f5a",
   "metadata": {},
   "outputs": [],
   "source": [
    "print(ttest_rel(d_tdann_simclr,d_tdann_sup)[1]*correct_by)\n",
    "print(ttest_rel(l_tdann_simclr,l_tdann_sup)[1]*correct_by)\n",
    "print(ttest_rel(v_tdann_simclr,v_tdann_sup)[1]*correct_by)"
   ]
  }
 ],
 "metadata": {
  "jupytext": {
   "formats": "ipynb,md"
  },
  "kernelspec": {
   "display_name": "spacestream_38",
   "language": "python",
   "name": "python3"
  },
  "language_info": {
   "codemirror_mode": {
    "name": "ipython",
    "version": 3
   },
   "file_extension": ".py",
   "mimetype": "text/x-python",
   "name": "python",
   "nbconvert_exporter": "python",
   "pygments_lexer": "ipython3",
   "version": "3.8.20"
  }
 },
 "nbformat": 4,
 "nbformat_minor": 5
}
