{
 "cells": [
  {
   "cell_type": "code",
   "execution_count": null,
   "id": "10229ed7",
   "metadata": {},
   "outputs": [],
   "source": [
    "%load_ext blackcellmagic"
   ]
  },
  {
   "cell_type": "markdown",
   "id": "7f01376a",
   "metadata": {},
   "source": [
    "#### Imports and setup"
   ]
  },
  {
   "cell_type": "code",
   "execution_count": null,
   "id": "c54bf0e7",
   "metadata": {},
   "outputs": [],
   "source": [
    "import deepdish as dd\n",
    "import pandas as pd\n",
    "import numpy as np\n",
    "\n",
    "import matplotlib.pyplot as plt\n",
    "import seaborn as sns\n",
    "\n",
    "import statsmodels.formula.api as sm\n",
    "from statsmodels.stats.multitest import multipletests"
   ]
  },
  {
   "cell_type": "code",
   "execution_count": null,
   "id": "2ea0ebfe",
   "metadata": {},
   "outputs": [],
   "source": [
    "from spacestream.core.constants import SUBJECTS, CORE_ROI_NAMES, ROI_COLORS\n",
    "from spacestream.core.paths import RESULTS_PATH\n",
    "from spacestream.utils.general_utils import sem"
   ]
  },
  {
   "cell_type": "code",
   "execution_count": null,
   "id": "7ada99df",
   "metadata": {},
   "outputs": [],
   "source": [
    "seeds = [0,1,2,3,4]\n",
    "hemis = [\"lh\",\"rh\"]\n",
    "model_types = [\"MB_RN50_v2\", \"MB_RN50\", \"MB_RN18\", \"TDANN_Supervised\", \"TDANN_SimCLR\"]"
   ]
  },
  {
   "cell_type": "markdown",
   "id": "73cb16e1",
   "metadata": {},
   "source": [
    "#### Load and format data"
   ]
  },
  {
   "cell_type": "code",
   "execution_count": null,
   "id": "6bb4049e",
   "metadata": {},
   "outputs": [],
   "source": [
    "# read in data\n",
    "long = {\n",
    "    \"model_type\": [],\n",
    "    \"hemi\": [],\n",
    "    \"subject\": [],\n",
    "    \"seed\": [],\n",
    "    \"ROIS\": [],\n",
    "    \"result\": [],\n",
    "}\n",
    "for hidx, hemi in enumerate(hemis):\n",
    "\n",
    "    for tidx, mtype in enumerate(model_types):\n",
    "\n",
    "        if \"TDANN\" in mtype:\n",
    "            load_path = (\n",
    "                RESULTS_PATH\n",
    "                + \"analyses/spatial/TDANNs/optimal_rgb_percentages_top100_\"\n",
    "                + hemi\n",
    "                + (\"_supervised\" if \"Supervised\" in mtype else \"\")\n",
    "                + \".hdf\"\n",
    "            )\n",
    "            sw_key = 5 if \"Supervised\" in mtype else 2\n",
    "            data = dd.io.load(load_path)[\"max_each_stream\"]\n",
    "        else:\n",
    "            load_path = (\n",
    "                RESULTS_PATH\n",
    "                + \"analyses/spatial/MBs/\"\n",
    "                + (\"RN18\" if \"18\" in mtype else \"RN50\")\n",
    "                + \"/percent_correct_by_task_\"\n",
    "                + hemi\n",
    "                + \".hdf\"\n",
    "            )\n",
    "            data = dd.io.load(load_path)[hemi]\n",
    "\n",
    "        for sidx, subj in enumerate(SUBJECTS):\n",
    "\n",
    "            if \"TDANN\" in mtype:\n",
    "                for seedx, model_seed in enumerate(seeds):\n",
    "                    for r in range(len(CORE_ROI_NAMES)):\n",
    "                        long[\"model_type\"].append(mtype)\n",
    "                        long[\"hemi\"].append(hemi)\n",
    "                        long[\"subject\"].append(subj)\n",
    "                        long[\"seed\"].append(model_seed)\n",
    "                        long[\"ROIS\"].append(CORE_ROI_NAMES[r])\n",
    "                        long[\"result\"].append(data[seedx, sidx, sw_key, r] * 100)\n",
    "            else:\n",
    "                for r in range(len(CORE_ROI_NAMES)):\n",
    "                    long[\"model_type\"].append(mtype)\n",
    "                    long[\"hemi\"].append(hemi)\n",
    "                    long[\"subject\"].append(subj)\n",
    "                    long[\"seed\"].append(0)\n",
    "                    long[\"ROIS\"].append(CORE_ROI_NAMES[r])\n",
    "                    long[\"result\"].append(data[sidx, r] * 100)"
   ]
  },
  {
   "cell_type": "code",
   "execution_count": null,
   "id": "6ca4c342",
   "metadata": {},
   "outputs": [],
   "source": [
    "df = pd.DataFrame(long)\n",
    "#average across seeds\n",
    "df_avg = pd.DataFrame(df.groupby(['model_type', 'hemi', 'subject', 'ROIS'])['result'].mean()).reset_index()"
   ]
  },
  {
   "cell_type": "code",
   "execution_count": null,
   "id": "89edcf5a",
   "metadata": {},
   "outputs": [],
   "source": [
    "subj2subj = {}\n",
    "for hidx, hemi in enumerate(hemis):\n",
    "    load_path = (\n",
    "        RESULTS_PATH + \"analyses/spatial/brains/vox2vox_correspondence_\" + hemi + \".hdf\"\n",
    "    )\n",
    "    subj2subj[hemi] = dd.io.load(load_path)\n",
    "s2s_hemi_avg = np.mean((subj2subj[\"lh\"], subj2subj[\"rh\"]),axis=0)"
   ]
  },
  {
   "cell_type": "code",
   "execution_count": null,
   "id": "5067243d",
   "metadata": {},
   "outputs": [],
   "source": [
    "s2s_hemi_avg*100"
   ]
  },
  {
   "cell_type": "markdown",
   "id": "c986c9f7",
   "metadata": {},
   "source": [
    "#### Plotting"
   ]
  },
  {
   "cell_type": "code",
   "execution_count": null,
   "id": "8b97a253",
   "metadata": {},
   "outputs": [],
   "source": [
    "sns.set_theme(style=\"ticks\")\n",
    "for gidx, group in enumerate(model_types):\n",
    "\n",
    "    group_df = df_avg[df_avg[\"model_type\"].isin([group])]\n",
    "    fig, ax = plt.subplots(figsize=(1, 5))\n",
    "    sns.barplot(\n",
    "        x=\"model_type\",\n",
    "        y=\"result\",\n",
    "        hue=\"ROIS\",\n",
    "        palette=ROI_COLORS,\n",
    "        data=group_df,\n",
    "        ax=ax,\n",
    "        errorbar=\"se\",\n",
    "        errwidth=2,\n",
    "        linewidth=3,\n",
    "    )\n",
    "    sns.stripplot(\n",
    "        x=\"model_type\",\n",
    "        y=\"result\",\n",
    "        hue=\"ROIS\",\n",
    "        palette=ROI_COLORS,\n",
    "        data=group_df[group_df[\"hemi\"].isin([\"lh\"])],\n",
    "        marker=\"^\",\n",
    "        ax=ax,\n",
    "        size=5,\n",
    "        dodge=True,\n",
    "    )\n",
    "    sns.stripplot(\n",
    "        x=\"model_type\",\n",
    "        y=\"result\",\n",
    "        hue=\"ROIS\",\n",
    "        palette=ROI_COLORS,\n",
    "        data=group_df[group_df[\"hemi\"].isin([\"rh\"])],\n",
    "        ax=ax,\n",
    "        size=5,\n",
    "        dodge=True,\n",
    "    )\n",
    "\n",
    "    for points in ax.collections:\n",
    "\n",
    "        points.set_edgecolor(\"white\")\n",
    "        points.set_linewidth(0.75)\n",
    "\n",
    "    # subj2subj NC bars\n",
    "    xmin = 0.1\n",
    "    xmax = 0.28\n",
    "    for ridx, ROI in enumerate(CORE_ROI_NAMES):\n",
    "        vals = s2s_hemi_avg[:, ridx] * 100\n",
    "        y1 = np.mean(vals) - sem(vals)\n",
    "        y2 = np.mean(vals) + sem(vals)\n",
    "        ax.axhspan(\n",
    "            y1,\n",
    "            y2,\n",
    "            xmin=xmin + (ridx * 0.26),\n",
    "            xmax=xmax + (ridx * 0.26),\n",
    "            alpha=0.9,\n",
    "            color=\"lightgray\",\n",
    "        )\n",
    "\n",
    "    ax.legend([], [], frameon=False)\n",
    "\n",
    "    ax.set_xlabel(\"\", fontsize=20)\n",
    "    ax.set_ylabel(\"Spatial correspondence (%)\", fontsize=15)\n",
    "    ax.tick_params(labelsize=15)\n",
    "    ax.axhline(33, c=\"k\", linestyle=\"--\")\n",
    "\n",
    "    ax.spines[\"right\"].set_visible(False)\n",
    "    ax.spines[\"top\"].set_visible(False)\n",
    "    plt.ylim([0, 80])\n",
    "\n",
    "    save_path = RESULTS_PATH + \"figures/2b_\" + group + \".svg\"\n",
    "    fig.savefig(save_path, dpi=100)"
   ]
  },
  {
   "cell_type": "markdown",
   "id": "a719be4b",
   "metadata": {},
   "source": [
    "#### Statistics"
   ]
  },
  {
   "cell_type": "code",
   "execution_count": null,
   "id": "7a3a29e4",
   "metadata": {},
   "outputs": [],
   "source": [
    "#set up separate models by ROI\n",
    "dorsal_df = df_avg[df_avg[\"ROIS\"]==\"Dorsal\"]\n",
    "lateral_df = df_avg[df_avg[\"ROIS\"]==\"Lateral\"]\n",
    "ventral_df = df_avg[df_avg[\"ROIS\"]==\"Ventral\"]"
   ]
  },
  {
   "cell_type": "code",
   "execution_count": null,
   "id": "496b8bce",
   "metadata": {},
   "outputs": [],
   "source": [
    "# Dorsal\n",
    "dorsal_mod = sm.mixedlm('result~model_type', data = dorsal_df, groups=dorsal_df[\"subject\"]).fit()\n",
    "print(dorsal_mod.summary())\n",
    "\n",
    "res = pd.concat([dorsal_mod.params,dorsal_mod.pvalues],axis=1)\n",
    "res.columns=['coefficient','pvalues']\n",
    "print(res)\n",
    "res = res[res.index.str.contains('model_type')]\n",
    "res['corrected_p'] = multipletests(res['pvalues'],method=\"bonferroni\")[1]\n",
    "print(res)"
   ]
  },
  {
   "cell_type": "code",
   "execution_count": null,
   "id": "aead7c0d",
   "metadata": {},
   "outputs": [],
   "source": [
    "# Lateral\n",
    "lateral_mod = sm.mixedlm('result~model_type', data = lateral_df, groups=lateral_df[\"subject\"]).fit()\n",
    "print(lateral_mod.summary())\n",
    "\n",
    "res = pd.concat([lateral_mod.params,lateral_mod.pvalues],axis=1)\n",
    "res.columns=['coefficient','pvalues']\n",
    "print(res)\n",
    "\n",
    "res = res[res.index.str.contains('model_type')]\n",
    "\n",
    "res['corrected_p'] = multipletests(res['pvalues'],method=\"bonferroni\")[1]\n",
    "print(res)"
   ]
  },
  {
   "cell_type": "code",
   "execution_count": null,
   "id": "a2adab02",
   "metadata": {},
   "outputs": [],
   "source": [
    "# Ventral\n",
    "ventral_mod = sm.mixedlm('result~model_type', data = ventral_df, groups=ventral_df[\"subject\"]).fit()\n",
    "print(ventral_mod.summary())\n",
    "\n",
    "res = pd.concat([ventral_mod.params,ventral_mod.pvalues],axis=1)\n",
    "res.columns=['coefficient','pvalues']\n",
    "print(res)\n",
    "\n",
    "res = res[res.index.str.contains('model_type')]\n",
    "\n",
    "res['corrected_p'] = multipletests(res['pvalues'],method=\"bonferroni\")[1]\n",
    "print(res)"
   ]
  },
  {
   "cell_type": "code",
   "execution_count": null,
   "id": "e0590c7e",
   "metadata": {},
   "outputs": [],
   "source": []
  }
 ],
 "metadata": {
  "jupytext": {
   "formats": "ipynb,md"
  },
  "kernelspec": {
   "display_name": "spacestream_38",
   "language": "python",
   "name": "python3"
  },
  "language_info": {
   "codemirror_mode": {
    "name": "ipython",
    "version": 3
   },
   "file_extension": ".py",
   "mimetype": "text/x-python",
   "name": "python",
   "nbconvert_exporter": "python",
   "pygments_lexer": "ipython3",
   "version": "3.8.20"
  }
 },
 "nbformat": 4,
 "nbformat_minor": 5
}
