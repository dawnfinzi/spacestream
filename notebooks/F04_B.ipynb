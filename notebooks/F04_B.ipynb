{
 "cells": [
  {
   "cell_type": "code",
   "execution_count": null,
   "id": "583b4ba3",
   "metadata": {},
   "outputs": [],
   "source": [
    "%load_ext blackcellmagic"
   ]
  },
  {
   "cell_type": "markdown",
   "id": "0c430e12",
   "metadata": {},
   "source": [
    "#### Imports and setup"
   ]
  },
  {
   "cell_type": "code",
   "execution_count": null,
   "id": "eb76fa4d",
   "metadata": {},
   "outputs": [],
   "source": [
    "import numpy as np\n",
    "import pandas as pd\n",
    "import pickle\n",
    "import matplotlib.pyplot as plt\n",
    "import seaborn as sns\n",
    "\n",
    "from pathlib import Path\n",
    "from scipy.stats import ttest_rel"
   ]
  },
  {
   "cell_type": "code",
   "execution_count": null,
   "id": "d6101705",
   "metadata": {},
   "outputs": [],
   "source": [
    "from spacestream.core.constants import SUBJECTS, CORE_ROI_NAMES, ROI_COLORS\n",
    "from spacestream.core.paths import DATA_PATH, RESULTS_PATH\n",
    "from spacestream.utils.general_utils import sem"
   ]
  },
  {
   "cell_type": "code",
   "execution_count": null,
   "id": "ab7bccab",
   "metadata": {},
   "outputs": [],
   "source": [
    "seeds = [0,1,2,3,4]\n",
    "hemis = [\"lh\",\"rh\"]\n",
    "streams = ['Ventral', 'Parietal'] #old naming"
   ]
  },
  {
   "cell_type": "markdown",
   "id": "734fb570",
   "metadata": {},
   "source": [
    "### Left panel - position"
   ]
  },
  {
   "cell_type": "markdown",
   "id": "92c71119",
   "metadata": {},
   "source": [
    "#### Load and format data"
   ]
  },
  {
   "cell_type": "code",
   "execution_count": null,
   "id": "5f94c8d0",
   "metadata": {},
   "outputs": [],
   "source": [
    "results = []\n",
    "missing_files = 0\n",
    "for sidx, subj in enumerate(SUBJECTS):\n",
    "    for seedx, seed in enumerate(seeds):\n",
    "        for stidx, stream in enumerate(streams):\n",
    "            for hidx, hemi in enumerate(hemis):\n",
    "                fullfile = (\n",
    "                    RESULTS_PATH\n",
    "                    + \"analyses/transfer/HVM\"\n",
    "                    + (\"/sw0.5_seed\" + str(seed))\n",
    "                    + (\"/subj\" + subj)\n",
    "                    + (\n",
    "                        \"/\"\n",
    "                        + hemi\n",
    "                        + \"_\"\n",
    "                        + stream\n",
    "                        + \"_stream_position_top_5k_all_var_splits_save_preds.pkl\"\n",
    "                    )\n",
    "                )\n",
    "\n",
    "                # load file\n",
    "                if Path(fullfile).is_file():\n",
    "                    o = open(fullfile, \"rb\")\n",
    "                    metrics = pickle.load(o)\n",
    "\n",
    "                    result = np.mean(metrics[\"test_acc\"])\n",
    "                    results.append(\n",
    "                        [\n",
    "                            subj,\n",
    "                            seed,\n",
    "                            hemi,\n",
    "                            stream,\n",
    "                            result,\n",
    "                        ]\n",
    "                    )\n",
    "\n",
    "                else:\n",
    "                    print(fullfile)\n",
    "                    missing_files += 1\n",
    "print(str(missing_files) + \" missing files\")"
   ]
  },
  {
   "cell_type": "code",
   "execution_count": null,
   "id": "7e0fbecc",
   "metadata": {},
   "outputs": [],
   "source": [
    "df = pd.DataFrame(results, columns=['subject','seed', 'hemi','stream', 'result'])"
   ]
  },
  {
   "cell_type": "markdown",
   "id": "6d6e4962",
   "metadata": {},
   "source": [
    "#### Plotting"
   ]
  },
  {
   "cell_type": "code",
   "execution_count": null,
   "id": "fe695296",
   "metadata": {},
   "outputs": [],
   "source": [
    "ROI_COLORS = ['#377E2C', '#1A1AAC', '#8C1A4C']"
   ]
  },
  {
   "cell_type": "code",
   "execution_count": null,
   "id": "9e4b6baf",
   "metadata": {},
   "outputs": [],
   "source": [
    "ventral = list(df[df[\"stream\"].isin([\"Ventral\"])][\"result\"])\n",
    "parietal = list(df[df[\"stream\"].isin([\"Parietal\"])][\"result\"])\n",
    "\n",
    "#separate hemis\n",
    "ventral_left = list(df.set_index(['stream', 'hemi']).loc[(\"Ventral\",\"lh\")].reset_index()[\"result\"])\n",
    "parietal_left = list(df.set_index(['stream', 'hemi']).loc[(\"Parietal\",\"lh\")].reset_index()[\"result\"])\n",
    "ventral_right = list(df.set_index(['stream', 'hemi']).loc[(\"Ventral\",\"rh\")].reset_index()[\"result\"])\n",
    "parietal_right = list(df.set_index(['stream', 'hemi']).loc[(\"Parietal\",\"rh\")].reset_index()[\"result\"])\n",
    "\n",
    "fig, ax = plt.subplots(figsize=(3, 6))\n",
    "# plotting the lines\n",
    "for i in range(len(ventral)):\n",
    "    plt.plot([0.025, 0.975], [parietal[i],ventral[i]], c=\"k\", alpha=0.15)\n",
    "# plotting the points\n",
    "plt.scatter(\n",
    "    np.ones(len(ventral_left)),\n",
    "    ventral_left,\n",
    "    color='#8C1A4C', \n",
    "    s=70,\n",
    "    alpha=0.95,\n",
    "    edgecolors=\"w\",\n",
    "    marker = \"^\",\n",
    "    linewidths=0.5,\n",
    ")\n",
    "plt.scatter(\n",
    "    np.ones(len(ventral_right)),\n",
    "    ventral_right,\n",
    "    color='#8C1A4C', \n",
    "    s=70,\n",
    "    alpha=0.95,\n",
    "    edgecolors=\"w\",\n",
    "    linewidths=0.75,\n",
    ")\n",
    "plt.xticks([0, 1], [\"Dorsal\", \"Ventral\"], fontsize=16)\n",
    "plt.scatter(\n",
    "    np.zeros(len(parietal_left)),\n",
    "    parietal_left,\n",
    "    color='#377E2C', \n",
    "    s=70,\n",
    "    alpha=0.95,\n",
    "    edgecolors=\"w\",\n",
    "    marker='^',\n",
    "    linewidths=0.5,\n",
    ")\n",
    "plt.scatter(\n",
    "    np.zeros(len(parietal_right)),\n",
    "    parietal_right,\n",
    "    color='#377E2C',\n",
    "    s=70,\n",
    "    alpha=0.95,\n",
    "    edgecolors=\"w\",\n",
    "    linewidths=0.5,\n",
    ")\n",
    "\n",
    "\n",
    "plt.xlim([-0.2, 1.2])\n",
    "plt.ylim([0.45, 0.535])\n",
    "\n",
    "ax.spines[\"right\"].set_visible(False)\n",
    "ax.spines[\"top\"].set_visible(False)\n",
    "\n",
    "fig.tight_layout()\n",
    "plt.show()\n",
    "\n",
    "save_path = RESULTS_PATH + \"/figures/4b_left_KGScoors.png\"\n",
    "fig.savefig(save_path, dpi=100)"
   ]
  },
  {
   "cell_type": "markdown",
   "id": "b3e5d568",
   "metadata": {},
   "source": [
    "#### Statistics"
   ]
  },
  {
   "cell_type": "code",
   "execution_count": null,
   "id": "044bcd89",
   "metadata": {},
   "outputs": [],
   "source": [
    "# reshape and then mean across hemispheres\n",
    "ventral_position = np.mean(np.mean(np.reshape(ventral, ((5, 2, 8))), axis=0), axis=0)\n",
    "dorsal_position = np.mean(np.mean(np.reshape(parietal, ((5, 2, 8))), axis=0), axis=0)"
   ]
  },
  {
   "cell_type": "code",
   "execution_count": null,
   "id": "2c9eb014",
   "metadata": {},
   "outputs": [],
   "source": [
    "ttest_rel(ventral_position, dorsal_position)"
   ]
  },
  {
   "cell_type": "code",
   "execution_count": null,
   "id": "03853f51",
   "metadata": {},
   "outputs": [],
   "source": [
    "print(np.mean(ventral_position)*100, np.std(ventral_position)*100)\n",
    "print(np.mean(dorsal_position)*100, np.std(dorsal_position)*100)"
   ]
  },
  {
   "cell_type": "markdown",
   "id": "afa11257",
   "metadata": {},
   "source": [
    "### Right panel - categorization"
   ]
  },
  {
   "cell_type": "markdown",
   "id": "a5339467",
   "metadata": {},
   "source": [
    "#### Load and format data"
   ]
  },
  {
   "cell_type": "code",
   "execution_count": null,
   "id": "6ea9a84c",
   "metadata": {},
   "outputs": [],
   "source": [
    "lh_results, rh_results = {\"Ventral\": {}, \"Parietal\": {}}, {\n",
    "    \"Ventral\": {},\n",
    "    \"Parietal\": {},\n",
    "}\n",
    "\n",
    "for stidx, stream in enumerate(streams):\n",
    "\n",
    "    for hidx, hemi in enumerate(hemis):\n",
    "        max_acc = []\n",
    "\n",
    "        for seedx, seed in enumerate(seeds):\n",
    "\n",
    "            for subjx, subject in enumerate(SUBJECTS):\n",
    "\n",
    "                log_file = (\n",
    "                    RESULTS_PATH\n",
    "                    + \"analyses/transfer/linear_eval/logs/\"\n",
    "                    + \"spacetorch_sw0.5_\"\n",
    "                    + hemi\n",
    "                    + \"_subj\"\n",
    "                    + subject\n",
    "                    + \"_\"\n",
    "                    + stream\n",
    "                    + \"_seed\"\n",
    "                    + str(seed)\n",
    "                    + \"_training.log\"\n",
    "                )\n",
    "\n",
    "                with open(log_file, \"r\") as f:\n",
    "                    for line in f:\n",
    "                        if \"Max Accuracy\" in line:\n",
    "                            max_acc.append(float(line[-7:-2]))\n",
    "        if hemi == \"lh\":\n",
    "            lh_results[stream] = max_acc\n",
    "        else:\n",
    "            rh_results[stream] = max_acc"
   ]
  },
  {
   "cell_type": "code",
   "execution_count": null,
   "id": "075250ae",
   "metadata": {},
   "outputs": [],
   "source": [
    "ventral = np.concatenate((lh_results[\"Ventral\"], rh_results[\"Ventral\"]))\n",
    "parietal = np.concatenate((lh_results[\"Parietal\"], rh_results[\"Parietal\"]))"
   ]
  },
  {
   "cell_type": "markdown",
   "id": "4b232b95",
   "metadata": {},
   "source": [
    "#### Plotting"
   ]
  },
  {
   "cell_type": "code",
   "execution_count": null,
   "id": "e44f4e45",
   "metadata": {},
   "outputs": [],
   "source": [
    "sns.set_theme(style=\"ticks\")\n",
    "\n",
    "task = \"imagenet\"\n",
    "\n",
    "fig, ax = plt.subplots(figsize=(3, 6))\n",
    "\n",
    "# plotting the lines\n",
    "for i in range(len(ventral)):\n",
    "    plt.plot([0.025, 0.975], [parietal[i], ventral[i]], c=\"k\", alpha=0.15)\n",
    "# plotting the points\n",
    "plt.scatter(\n",
    "    np.ones(len(lh_results[\"Ventral\"])),\n",
    "    lh_results[\"Ventral\"],\n",
    "    color='#8C1A4C',\n",
    "    s=70,\n",
    "    alpha=0.95,\n",
    "    edgecolors=\"w\",\n",
    "    marker=\"^\",\n",
    "    linewidths=0.5,\n",
    ")\n",
    "plt.scatter(\n",
    "    np.ones(len(rh_results[\"Ventral\"])),\n",
    "    rh_results[\"Ventral\"],\n",
    "    color='#8C1A4C',\n",
    "    s=70,\n",
    "    alpha=0.95,\n",
    "    edgecolors=\"w\",\n",
    "    linewidths=0.75,\n",
    ")\n",
    "plt.xticks([0, 1], [\"Dorsal\", \"Ventral\"], fontsize=16)\n",
    "plt.scatter(\n",
    "    np.zeros(len(lh_results[\"Parietal\"])),\n",
    "    lh_results[\"Parietal\"],\n",
    "    color='#377E2C',\n",
    "    s=70,\n",
    "    alpha=0.95,\n",
    "    edgecolors=\"w\",\n",
    "    marker=\"^\",\n",
    "    linewidths=0.5,\n",
    ")\n",
    "plt.scatter(\n",
    "    np.zeros(len(rh_results[\"Parietal\"])),\n",
    "    rh_results[\"Parietal\"],\n",
    "    color='#377E2C',\n",
    "    s=70,\n",
    "    alpha=0.95,\n",
    "    edgecolors=\"w\",\n",
    "    linewidths=0.5,\n",
    ")\n",
    "\n",
    "plt.xticks([0, 1], [\"Dorsal\", \"Ventral\"], fontsize=16)\n",
    "plt.xlim([-0.2, 1.2])\n",
    "\n",
    "ax.spines[\"right\"].set_visible(False)\n",
    "ax.spines[\"top\"].set_visible(False)\n",
    "\n",
    "fig.tight_layout()\n",
    "plt.show()\n",
    "\n",
    "save_path = RESULTS_PATH + \"/figures/4b_right_KGScolors.png\"\n",
    "fig.savefig(save_path, dpi=100)"
   ]
  },
  {
   "cell_type": "markdown",
   "id": "6667ada9",
   "metadata": {},
   "source": [
    "#### Statistics"
   ]
  },
  {
   "cell_type": "code",
   "execution_count": null,
   "id": "0259e7a3",
   "metadata": {},
   "outputs": [],
   "source": [
    "# reshape and then mean across hemispheres\n",
    "ventral_categorization = np.mean(\n",
    "    np.mean(np.reshape(ventral, ((5, 2, 8))), axis=0), axis=0\n",
    ")\n",
    "dorsal_categorization = np.mean(\n",
    "    np.mean(np.reshape(parietal, ((5, 2, 8))), axis=0), axis=0\n",
    ")"
   ]
  },
  {
   "cell_type": "code",
   "execution_count": null,
   "id": "d0efef78",
   "metadata": {},
   "outputs": [],
   "source": [
    "ttest_rel(ventral_categorization, dorsal_categorization)"
   ]
  },
  {
   "cell_type": "code",
   "execution_count": null,
   "id": "c027f6c6",
   "metadata": {},
   "outputs": [],
   "source": [
    "print(np.mean(ventral_categorization), np.std(ventral_categorization))\n",
    "print(np.mean(dorsal_categorization), np.std(dorsal_categorization))"
   ]
  },
  {
   "cell_type": "code",
   "execution_count": null,
   "id": "02b416c7",
   "metadata": {},
   "outputs": [],
   "source": []
  }
 ],
 "metadata": {
  "jupytext": {
   "formats": "ipynb,md"
  },
  "kernelspec": {
   "display_name": "spacestream",
   "language": "python",
   "name": "spacestream"
  },
  "language_info": {
   "codemirror_mode": {
    "name": "ipython",
    "version": 3
   },
   "file_extension": ".py",
   "mimetype": "text/x-python",
   "name": "python",
   "nbconvert_exporter": "python",
   "pygments_lexer": "ipython3",
   "version": "3.7.17"
  }
 },
 "nbformat": 4,
 "nbformat_minor": 5
}
