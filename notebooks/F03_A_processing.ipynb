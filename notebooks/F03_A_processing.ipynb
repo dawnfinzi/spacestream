{
 "cells": [
  {
   "cell_type": "code",
   "execution_count": null,
   "id": "10229ed7",
   "metadata": {},
   "outputs": [],
   "source": [
    "%load_ext blackcellmagic"
   ]
  },
  {
   "cell_type": "markdown",
   "id": "7f01376a",
   "metadata": {},
   "source": [
    "#### Imports and setup"
   ]
  },
  {
   "cell_type": "code",
   "execution_count": null,
   "id": "99d35d13",
   "metadata": {},
   "outputs": [],
   "source": [
    "import deepdish as dd\n",
    "import pandas as pd\n",
    "import numpy as np\n",
    "\n",
    "from scipy.stats import ttest_1samp"
   ]
  },
  {
   "cell_type": "code",
   "execution_count": null,
   "id": "a82b5b1d",
   "metadata": {},
   "outputs": [],
   "source": [
    "from spacestream.core.constants import SUBJECTS, CORE_ROI_NAMES\n",
    "from spacestream.core.paths import RESULTS_PATH"
   ]
  },
  {
   "cell_type": "code",
   "execution_count": null,
   "id": "7f392763",
   "metadata": {},
   "outputs": [],
   "source": [
    "seeds = [0,1,2,3,4]\n",
    "hemis = [\"lh\",\"rh\"]\n",
    "model_types = [\"MB_RN50_v2\", \"MB_RN50\", \"MB_RN18\"]\n",
    "checkpoint = \"checkpoint0\""
   ]
  },
  {
   "cell_type": "code",
   "execution_count": null,
   "id": "2d71a0fa",
   "metadata": {},
   "outputs": [],
   "source": [
    "tasks = {\n",
    "    \"MB_RN50_v2\": [\"categorization\", \"clip\", \"detection\"],\n",
    "    \"MB_RN50\": [\"categorization\", \"action\", \"detection\"],\n",
    "    \"MB_RN18\": [\"categorization\", \"action\", \"detection\"],\n",
    "}"
   ]
  },
  {
   "cell_type": "markdown",
   "id": "73cb16e1",
   "metadata": {},
   "source": [
    "#### Load and format data"
   ]
  },
  {
   "cell_type": "code",
   "execution_count": null,
   "id": "9f794bb0",
   "metadata": {},
   "outputs": [],
   "source": [
    "# read in data\n",
    "long = {\n",
    "    \"model_type\": [],\n",
    "    \"hemi\": [],\n",
    "    \"subject\": [],\n",
    "    \"seed\": [],\n",
    "    \"ROIS\": [],\n",
    "    \"result\": [],\n",
    "}\n",
    "for hidx, hemi in enumerate(hemis):\n",
    "\n",
    "    for tidx, mtype in enumerate(model_types):\n",
    "\n",
    "        \n",
    "        load_path = (\n",
    "            RESULTS_PATH\n",
    "            + \"analyses/spatial/MBs/\"\n",
    "            + (\"RN18\" if \"18\" in mtype else \"RN50_v2\" if \"50_v2\" in mtype else \"RN50\")\n",
    "            + \"/full_percent_by_task_\"\n",
    "            + hemi\n",
    "            + \"_\"\n",
    "            + checkpoint\n",
    "            + \".hdf\"\n",
    "        )\n",
    "        data = dd.io.load(load_path)[hemi]\n",
    "\n",
    "        for sidx, subj in enumerate(SUBJECTS):\n",
    "\n",
    "            for r in range(len(CORE_ROI_NAMES)*3):\n",
    "                task = tasks[mtype][r % 3] \n",
    "                long[\"model_type\"].append(mtype + \"_\" + task)\n",
    "                long[\"hemi\"].append(hemi)\n",
    "                long[\"subject\"].append(subj)\n",
    "                long[\"seed\"].append(0)\n",
    "                long[\"ROIS\"].append(CORE_ROI_NAMES[r // 3])\n",
    "                long[\"result\"].append(data[sidx, r] * 100)"
   ]
  },
  {
   "cell_type": "code",
   "execution_count": null,
   "id": "c88363fa",
   "metadata": {},
   "outputs": [],
   "source": [
    "data.shape"
   ]
  },
  {
   "cell_type": "code",
   "execution_count": null,
   "id": "6625c1a0",
   "metadata": {},
   "outputs": [],
   "source": [
    "df = pd.DataFrame(long)\n",
    "#average across seeds\n",
    "df_avg = pd.DataFrame(df.groupby(['model_type', 'hemi', 'subject', 'ROIS'])['result'].mean()).reset_index()"
   ]
  },
  {
   "cell_type": "code",
   "execution_count": null,
   "id": "9851ed49",
   "metadata": {},
   "outputs": [],
   "source": [
    "df_avg"
   ]
  },
  {
   "cell_type": "code",
   "execution_count": null,
   "id": "89edcf5a",
   "metadata": {},
   "outputs": [],
   "source": [
    "subj2subj = {}\n",
    "for hidx, hemi in enumerate(hemis):\n",
    "    load_path = (\n",
    "        RESULTS_PATH + \"analyses/spatial/brains/vox2vox_correspondence_\" + hemi + \"_\" + checkpoint + \".hdf\"\n",
    "    )\n",
    "    subj2subj[hemi] = dd.io.load(load_path)\n",
    "s2s_hemi_avg = np.mean((subj2subj[\"lh\"], subj2subj[\"rh\"]),axis=0)\n",
    "s2s_hemi_avg = s2s_hemi_avg * 100"
   ]
  },
  {
   "cell_type": "code",
   "execution_count": null,
   "id": "d58680dd",
   "metadata": {},
   "outputs": [],
   "source": [
    "# Reformat data\n",
    "rows = []\n",
    "for i, roi in enumerate(CORE_ROI_NAMES):\n",
    "    for j, subject in enumerate(SUBJECTS):\n",
    "        rows.append({\"subject\": subject, \"ROI\": roi, \"result\": s2s_hemi_avg[j, i]})\n",
    "s2s_reformatted = pd.DataFrame(rows)"
   ]
  },
  {
   "cell_type": "code",
   "execution_count": null,
   "id": "89ad62a3",
   "metadata": {},
   "outputs": [],
   "source": [
    "print(s2s_reformatted[s2s_reformatted[\"ROI\"] == \"Ventral\"][\"result\"].mean())\n",
    "print(s2s_reformatted[s2s_reformatted[\"ROI\"] == \"Ventral\"][\"result\"].std())"
   ]
  },
  {
   "cell_type": "code",
   "execution_count": null,
   "id": "5a89249a",
   "metadata": {},
   "outputs": [],
   "source": [
    "# Save the dataframes for matlab plotting function\n",
    "# matlab/F03_A.m\n",
    "\n",
    "s2s_reformatted.to_csv('/oak/stanford/groups/kalanit/biac2/kgs/projects/Dawn/SpaceStreamPaper/Revision/code/new_Fig3a_noiseCeiling_checkpoint0.csv', index=False)\n",
    "df_avg.to_csv('/oak/stanford/groups/kalanit/biac2/kgs/projects/Dawn/SpaceStreamPaper/Revision/code/new_Fig3a_dataFrame_0420_checkpoint0.csv', index=False)\n"
   ]
  },
  {
   "cell_type": "markdown",
   "id": "a719be4b",
   "metadata": {},
   "source": [
    "#### Statistics"
   ]
  },
  {
   "cell_type": "code",
   "execution_count": null,
   "id": "7a3a29e4",
   "metadata": {},
   "outputs": [],
   "source": [
    "#set up separate models by ROI\n",
    "dorsal_df = df_avg[df_avg[\"ROIS\"]==\"Dorsal\"]\n",
    "lateral_df = df_avg[df_avg[\"ROIS\"]==\"Lateral\"]\n",
    "ventral_df = df_avg[df_avg[\"ROIS\"]==\"Ventral\"]"
   ]
  },
  {
   "cell_type": "code",
   "execution_count": null,
   "id": "90adfd0a",
   "metadata": {},
   "outputs": [],
   "source": [
    "corrected_by = 3 * 3 # 3 hypothesized tasks, 3 streams"
   ]
  },
  {
   "cell_type": "code",
   "execution_count": null,
   "id": "48168026",
   "metadata": {},
   "outputs": [],
   "source": [
    "dorsal_model_types = [\n",
    "    \"MB_RN50_v2_detection\",\n",
    "    \"MB_RN50_detection\",\n",
    "    \"MB_RN18_detection\",\n",
    "]\n",
    "lateral_model_types = [\n",
    "    \"MB_RN50_v2_clip\",\n",
    "    \"MB_RN50_action\",\n",
    "    \"MB_RN18_action\",\n",
    "]\n",
    "ventral_model_types = [\n",
    "    \"MB_RN50_v2_categorization\",\n",
    "    \"MB_RN50_categorization\",\n",
    "    \"MB_RN18_categorization\",\n",
    "]"
   ]
  },
  {
   "cell_type": "code",
   "execution_count": null,
   "id": "39a4d5d3",
   "metadata": {},
   "outputs": [],
   "source": [
    "individual_dorsal_dfs = {}\n",
    "for model in dorsal_model_types:\n",
    "    individual_dorsal_dfs[model] = dorsal_df[dorsal_df[\"model_type\"]==model].groupby('subject')['result'].mean().reset_index()['result']\n",
    "\n",
    "individual_lateral_dfs = {}\n",
    "for model in lateral_model_types:\n",
    "    individual_lateral_dfs[model] = lateral_df[lateral_df[\"model_type\"]==model].groupby('subject')['result'].mean().reset_index()['result']\n",
    "\n",
    "individual_ventral_dfs = {}\n",
    "for model in ventral_model_types:\n",
    "    individual_ventral_dfs[model] = ventral_df[ventral_df[\"model_type\"]==model].groupby('subject')['result'].mean().reset_index()['result']\n"
   ]
  },
  {
   "cell_type": "code",
   "execution_count": null,
   "id": "dfc529da",
   "metadata": {},
   "outputs": [],
   "source": [
    "print(np.mean(individual_dorsal_dfs[\"MB_RN50_v2_detection\"]))"
   ]
  },
  {
   "cell_type": "code",
   "execution_count": null,
   "id": "e20c4059",
   "metadata": {},
   "outputs": [],
   "source": [
    "print(\"Dorsal\")\n",
    "for model in dorsal_model_types:\n",
    "    print(model)\n",
    "    print(np.mean(individual_dorsal_dfs[model]))\n",
    "    print(np.std(individual_dorsal_dfs[model]))\n",
    "    print(ttest_1samp(individual_dorsal_dfs[model], 33.33)[1]*corrected_by)\n",
    "\n",
    "print(\"--------------------\")\n",
    "print(\"Lateral\")\n",
    "for model in lateral_model_types:\n",
    "    print(model)\n",
    "    print(np.mean(individual_lateral_dfs[model]))\n",
    "    print(np.std(individual_lateral_dfs[model]))\n",
    "    print(ttest_1samp(individual_lateral_dfs[model], 33.33)[1]*corrected_by)\n",
    "    \n",
    "print(\"--------------------\")\n",
    "print(\"Ventral\")\n",
    "for model in ventral_model_types:\n",
    "    print(model)\n",
    "    print(np.mean(individual_ventral_dfs[model]))\n",
    "    print(np.std(individual_ventral_dfs[model]))\n",
    "    print(ttest_1samp(individual_ventral_dfs[model], 33.33)[1]*corrected_by)"
   ]
  }
 ],
 "metadata": {
  "jupytext": {
   "formats": "ipynb,md"
  },
  "kernelspec": {
   "display_name": "spacestream_38",
   "language": "python",
   "name": "python3"
  },
  "language_info": {
   "codemirror_mode": {
    "name": "ipython",
    "version": 3
   },
   "file_extension": ".py",
   "mimetype": "text/x-python",
   "name": "python",
   "nbconvert_exporter": "python",
   "pygments_lexer": "ipython3",
   "version": "3.8.20"
  }
 },
 "nbformat": 4,
 "nbformat_minor": 5
}
