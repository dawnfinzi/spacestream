{
 "cells": [
  {
   "cell_type": "code",
   "execution_count": null,
   "id": "f29d4da5",
   "metadata": {},
   "outputs": [],
   "source": [
    "%load_ext blackcellmagic"
   ]
  },
  {
   "cell_type": "markdown",
   "id": "41a91025",
   "metadata": {},
   "source": [
    "#### Imports and setup"
   ]
  },
  {
   "cell_type": "code",
   "execution_count": null,
   "id": "55eef1a7",
   "metadata": {},
   "outputs": [],
   "source": [
    "import os\n",
    "import numpy as np\n",
    "import pandas as pd\n",
    "import deepdish as dd\n",
    "import h5py\n",
    "import pickle\n",
    "import nibabel.freesurfer.mghformat as mgh\n",
    "import matplotlib.pyplot as plt\n",
    "import seaborn as sns"
   ]
  },
  {
   "cell_type": "code",
   "execution_count": null,
   "id": "8b129991",
   "metadata": {},
   "outputs": [],
   "source": [
    "from spacestream.core.constants import SUBJECTS, CORE_ROI_NAMES\n",
    "from spacestream.core.paths import DATA_PATH, RESULTS_PATH\n",
    "from spacestream.utils.general_utils import sem\n",
    "from spacestream.utils.get_utils import get_mapping"
   ]
  },
  {
   "cell_type": "code",
   "execution_count": null,
   "id": "9f1d5dd4",
   "metadata": {},
   "outputs": [],
   "source": [
    "seeds = [0,1,2,3,4]\n",
    "hemis = [\"lh\",\"rh\"]\n",
    "sw_list = [\n",
    "            \"0.0\",\n",
    "            \"0.1\",\n",
    "            \"0.25\",\n",
    "            \"0.5\",\n",
    "            \"1.25\",\n",
    "            \"2.5\",\n",
    "            \"25.0\",\n",
    "        ]\n",
    "sup_case = [\"simCLR\", \"supervised\"]\n",
    "colors = {}\n",
    "colors[\"simCLR\"], colors[\"supervised\"] = \"#720298\", \"#B59410\""
   ]
  },
  {
   "cell_type": "markdown",
   "id": "d026e2a0",
   "metadata": {},
   "source": [
    "#### Load and format data"
   ]
  },
  {
   "cell_type": "markdown",
   "id": "3c289bad",
   "metadata": {},
   "source": [
    "##### Load effective dimensionality calculations"
   ]
  },
  {
   "cell_type": "code",
   "execution_count": null,
   "id": "3a4f5f76",
   "metadata": {},
   "outputs": [],
   "source": [
    "load_dir = os.path.join(\n",
    "    RESULTS_PATH,\n",
    "    \"analyses/effective_dim/\",\n",
    ")"
   ]
  },
  {
   "cell_type": "code",
   "execution_count": null,
   "id": "e39b916a",
   "metadata": {},
   "outputs": [],
   "source": [
    "#brain\n",
    "brain_ED = {}\n",
    "for hemi in hemis:\n",
    "    for sidx, subj in enumerate(SUBJECTS):\n",
    "        context = f\"subjects_by_stream_{hemi}.pkl\"\n",
    "        fname = os.path.join(load_dir, context)\n",
    "        brain_ED[hemi] = pickle.load(open(fname, \"rb\"))\n",
    "total_subject_ED = np.vstack((brain_ED['lh'],brain_ED['rh']))"
   ]
  },
  {
   "cell_type": "code",
   "execution_count": null,
   "id": "a995174e",
   "metadata": {},
   "outputs": [],
   "source": [
    "#model\n",
    "ED = np.zeros((2,2,7,5,8,3))\n",
    "for hidx, hemi in enumerate(hemis):\n",
    "    for supidx, sup in enumerate(sup_case):\n",
    "        supervised_stem = \"supervised_\" if supidx==1 else \"\"\n",
    "\n",
    "        context = f\"{supervised_stem}ED_by_stream_{hemi}.pkl\"\n",
    "        fname = os.path.join(load_dir, context)\n",
    "        ED[hidx,supidx] = pickle.load(open(fname, \"rb\"))"
   ]
  },
  {
   "cell_type": "markdown",
   "id": "2fe3f4b8",
   "metadata": {},
   "source": [
    "##### Load functional correlations and organize data"
   ]
  },
  {
   "cell_type": "code",
   "execution_count": null,
   "id": "7f7355e4",
   "metadata": {},
   "outputs": [],
   "source": [
    "def correct_for_voxel_noise_ceiling(NC, mapping):\n",
    "\n",
    "    brain_r = np.sqrt(\n",
    "        NC[mapping[\"winning_idx\"].astype(int)] / 100\n",
    "    )  # convert from R^2 to r\n",
    "    mapping[\"winning_roi\"] = mapping[\"winning_roi\"].astype(np.float32)\n",
    "\n",
    "    if np.sum(np.isinf(mapping[\"winning_test_corr\"])) > 0:\n",
    "        mapping[\"winning_test_corr\"][np.isinf(info[\"winning_test_corr\"])] = np.nan\n",
    "\n",
    "    corrected = mapping[\"winning_test_corr\"] / brain_r\n",
    "    corrected[mapping[\"winning_test_corr\"] == 0] = np.nan\n",
    "\n",
    "    return corrected"
   ]
  },
  {
   "cell_type": "code",
   "execution_count": null,
   "id": "404a55e9",
   "metadata": {},
   "outputs": [],
   "source": [
    "full_results = {\n",
    "    'Spatial Weight': [],\n",
    "    'Type': [],\n",
    "    \"Combined\": [],\n",
    "    'Seed': [],\n",
    "    'Stream': [],\n",
    "    'Subject': [],\n",
    "    'Hemi': [],\n",
    "    'ED': [],\n",
    "    'Corr': [],\n",
    "}\n",
    "\n",
    "for hidx, hemi in enumerate(hemis):\n",
    "    \n",
    "    for sidx, subj in enumerate(SUBJECTS):\n",
    "\n",
    "        # get ROI info\n",
    "        mgh_file = mgh.load(DATA_PATH + \"brains/\" + hemi + \".ministreams.mgz\")\n",
    "        streams = mgh_file.get_fdata()[:, 0, 0].astype(int)\n",
    "        # get noise ceiling estimates\n",
    "        mgh_file = mgh.load(\n",
    "            DATA_PATH + \"brains/NC/subj\" + subj + \"/\" + hemi + \".nc_3trials.mgh\"\n",
    "        )\n",
    "        NC = mgh_file.get_fdata()[:, 0, 0]\n",
    "        NC_trim = NC[streams != 0]\n",
    "        NC_trim[NC_trim == 0] = np.nan  # Set all 0s to nans to avoid dividing by 0\n",
    "\n",
    "\n",
    "        for supidx, sup in enumerate(sup_case):\n",
    "            for widx, weight in enumerate(sw_list):\n",
    "\n",
    "                for midx, seed in enumerate(seeds):\n",
    "                    mapping = get_mapping(\n",
    "                        subj_name=\"subj\" + str(subj),\n",
    "                        spatial_weight=weight,\n",
    "                        model_seed=seed,\n",
    "                        supervised=supidx,\n",
    "                        hemi=hemi,\n",
    "                    )\n",
    "                    corrected = correct_for_voxel_noise_ceiling(NC_trim, mapping)\n",
    "\n",
    "\n",
    "                    for ridx, r in enumerate(CORE_ROI_NAMES):\n",
    "                        \n",
    "                        full_results[\"Spatial Weight\"].append(str(weight))\n",
    "                        full_results[\"Type\"].append(sup)\n",
    "                        full_results[\"Combined\"].append(str(weight)+\"_\"+str(supidx))\n",
    "                        full_results[\"Seed\"].append(seed)\n",
    "                        full_results[\"Subject\"].append(subj)\n",
    "                        full_results[\"Stream\"].append(r)\n",
    "                        full_results[\"ED\"].append(ED[hidx,supidx,widx, midx, sidx, ridx])\n",
    "                        full_results[\"Hemi\"].append(hemi)\n",
    "                        full_results[\"Corr\"].append(\n",
    "                            np.nanmean(corrected[mapping[\"winning_roi\"] == ridx + 5])\n",
    "                        )\n"
   ]
  },
  {
   "cell_type": "code",
   "execution_count": null,
   "id": "4503023b",
   "metadata": {},
   "outputs": [],
   "source": [
    "full_df = pd.DataFrame(full_results)\n",
    "df_avg = pd.DataFrame(full_df.groupby([\"Spatial Weight\", \"Type\",\"Combined\", \"Subject\", \"Stream\", \"Seed\"])[\"ED\",\"Corr\"].mean()).reset_index()"
   ]
  },
  {
   "cell_type": "code",
   "execution_count": null,
   "id": "0e66b1cd",
   "metadata": {},
   "outputs": [],
   "source": [
    "df_avg"
   ]
  },
  {
   "cell_type": "code",
   "execution_count": null,
   "id": "2fab1da5",
   "metadata": {},
   "outputs": [],
   "source": [
    "df_avg.to_csv('/share/kalanit/users/dfinzi/Desktop/processed_spacestream_csvs/F03_C.csv', index=False)  "
   ]
  },
  {
   "cell_type": "code",
   "execution_count": null,
   "id": "871cb0ee",
   "metadata": {},
   "outputs": [],
   "source": [
    "## load subject2subject estimates\n",
    "s2s_corrected_by_stream= np.zeros((len(SUBJECTS),len(seeds),len(CORE_ROI_NAMES), len(hemis)))\n",
    "\n",
    "for hidx, hemi in enumerate(hemis):\n",
    "    \n",
    "    for sidx, subj in enumerate(SUBJECTS):\n",
    "\n",
    "        for seedix, seed in enumerate(seeds):\n",
    "\n",
    "            load_path = (RESULTS_PATH\n",
    "                            + \"mappings/one_to_one/voxel2voxel/target_subj\"\n",
    "                            + subj\n",
    "                            + \"/mode_\"\n",
    "                            + hemi\n",
    "                            + \"_ministreams_HVA_only_radius5_max_iters100_constant_radius_2.0dist_cutoff_constant_dist_cutoff_spherical\"\n",
    "                            + (\"_CV_seed\" + str(seed))\n",
    "                            + \"_final_voxel2voxel_correlation_info.hdf5\"\n",
    "                        )\n",
    "            with h5py.File(load_path, \"r\") as f:\n",
    "\n",
    "                for r, ridx in enumerate(CORE_ROI_NAMES):\n",
    "                    s2s_corrected_by_stream[sidx,seedix,r,hidx] =  np.nanmean(f['corrected_test_corr'][:][f['winning_roi'][:] == r+5])\n",
    "across_seed_corrected_mean = np.mean(np.mean(s2s_corrected_by_stream,axis=-1),axis=1)"
   ]
  },
  {
   "cell_type": "code",
   "execution_count": null,
   "id": "0988bc28",
   "metadata": {},
   "outputs": [],
   "source": [
    "across_seed_corrected_mean\n"
   ]
  },
  {
   "cell_type": "code",
   "execution_count": null,
   "id": "dd94323a",
   "metadata": {},
   "outputs": [],
   "source": [
    "np.mean(total_subject_ED.reshape(8,2,3),axis=1)"
   ]
  },
  {
   "cell_type": "markdown",
   "id": "c2d8718e",
   "metadata": {},
   "source": [
    "#### Plotting"
   ]
  },
  {
   "cell_type": "code",
   "execution_count": null,
   "id": "3916ce88",
   "metadata": {},
   "outputs": [],
   "source": [
    "for ridx, roi in enumerate(CORE_ROI_NAMES):\n",
    "    fig, ax = plt.subplots(figsize=(7, 9))\n",
    "    sns.set_theme(style=\"ticks\")\n",
    "\n",
    "    kwargs = {\n",
    "        \"edgecolor\": \"w\",  # for edge color\n",
    "        \"linewidth\": 0.01,  # line width of spot\n",
    "    }\n",
    "    df_roi = df_avg[df_avg[\"Stream\"].isin([roi])]\n",
    "\n",
    "    xmin = 0\n",
    "    xmax = 1\n",
    "\n",
    "    vals = across_seed_corrected_mean[:, ridx]\n",
    "    y1 = np.mean(vals) - np.std(vals)\n",
    "    y2 = np.mean(vals) + np.std(vals)\n",
    "    ax.axhspan(y1, y2, xmin=xmin, xmax=xmax, color=\"lightgray\", alpha=0.75)\n",
    "    y1 = (\n",
    "        np.mean(total_subject_ED, axis=0)[ridx]\n",
    "        + np.std(total_subject_ED, axis=0)[ridx]\n",
    "    )\n",
    "    y2 = (\n",
    "        np.mean(total_subject_ED, axis=0)[ridx]\n",
    "        - np.std(total_subject_ED, axis=0)[ridx]\n",
    "    )\n",
    "    ax.axvspan(y1, y2, color=\"lightgray\", alpha=0.75)  # color=color_mappings[roi],\n",
    "\n",
    "    sns.scatterplot(\n",
    "        data=df_roi[df_roi[\"Type\"].isin([\"supervised\"])][\n",
    "            ~df_roi[df_roi[\"Type\"].isin([\"supervised\"])][\"Spatial Weight\"].isin([\"2.5\"])\n",
    "        ],\n",
    "        x=\"ED\",\n",
    "        y=\"Corr\",\n",
    "        hue=\"Combined\",\n",
    "        size=\"Spatial Weight\",\n",
    "        sizes=[15, 25, 50, 75, 100, 250],  # [15, 25, 50, 75, 100, 250, 150],\n",
    "        alpha=0.3,\n",
    "        palette=[\"#FFFFFF\"],\n",
    "        edgecolor=[\n",
    "            \"#B59410\"\n",
    "        ],  # [color_mappings[roi]], #[\"#4d7fff\",\"#006600\",\"#DC267F\"],\n",
    "        facecolor=\"w\",\n",
    "        linewidth=2,\n",
    "        zorder=10,\n",
    "        ax=ax,\n",
    "    )\n",
    "    sns.scatterplot(\n",
    "        data=df_roi[df_roi[\"Type\"].isin([\"simCLR\"])][\n",
    "            ~df_roi[df_roi[\"Type\"].isin([\"simCLR\"])][\"Spatial Weight\"].isin(\n",
    "                [\"0.25\", \"0.5\"]\n",
    "            )\n",
    "        ],\n",
    "        x=\"ED\",\n",
    "        y=\"Corr\",\n",
    "        hue=\"Combined\",\n",
    "        size=\"Spatial Weight\",\n",
    "        sizes=[15, 25, 100, 150, 250],  # [15, 25, 75, 100, 150, 250, 50],\n",
    "        palette=[\"#FFFFFF\"],\n",
    "        edgecolor=[\"#720298\"],\n",
    "        facecolor=\"w\",\n",
    "        linewidth=2,\n",
    "        alpha=0.3,\n",
    "        zorder=10,\n",
    "        ax=ax,\n",
    "    )\n",
    "\n",
    "    sns.scatterplot(\n",
    "        data=df_roi[df_roi[\"Type\"].isin([\"supervised\"])][\n",
    "            df_roi[df_roi[\"Type\"].isin([\"supervised\"])][\"Spatial Weight\"].isin([\"2.5\"])\n",
    "        ],\n",
    "        x=\"ED\",\n",
    "        y=\"Corr\",\n",
    "        hue=\"Combined\",\n",
    "        size=\"Spatial Weight\",\n",
    "        sizes=[150],  # [15, 25, 50, 75, 100, 250, 150],\n",
    "        palette=[\"#B59410\"],\n",
    "        zorder=10,\n",
    "        ax=ax,\n",
    "    )\n",
    "    sns.scatterplot(\n",
    "        data=df_roi[df_roi[\"Type\"].isin([\"simCLR\"])][\n",
    "            df_roi[df_roi[\"Type\"].isin([\"simCLR\"])][\"Spatial Weight\"].isin(\n",
    "                [\"0.25\", \"0.5\"]\n",
    "            )\n",
    "        ],\n",
    "        x=\"ED\",\n",
    "        y=\"Corr\",\n",
    "        hue=\"Combined\",\n",
    "        size=\"Spatial Weight\",\n",
    "        sizes=[50, 75],  # [15, 25, 75, 100, 150, 250, 50],\n",
    "        palette=[\"#720298\"],  # [color_mappings[roi]], #[\"#4d7fff\",\"#006600\",\"#DC267F\"],\n",
    "        zorder=10,\n",
    "        ax=ax,\n",
    "    )\n",
    "\n",
    "    ax.set_xscale(\"log\")\n",
    "    ax.set_ylim(0, 0.43)\n",
    "\n",
    "    plt.legend([], [], frameon=False)\n",
    "    ax.set_xlabel(\"Effective Dimensionality\")\n",
    "    ax.set_ylabel(\"Correlation\")\n",
    "\n",
    "    ax.spines[\"right\"].set_visible(False)\n",
    "    ax.spines[\"top\"].set_visible(False)\n",
    "\n",
    "    save_path = RESULTS_PATH + \"figures/3C_\" + roi + \"_SD.png\"\n",
    "    fig.savefig(save_path, dpi=100)"
   ]
  },
  {
   "cell_type": "code",
   "execution_count": null,
   "id": "52b8a2b6",
   "metadata": {},
   "outputs": [],
   "source": []
  }
 ],
 "metadata": {
  "jupytext": {
   "formats": "ipynb,md"
  },
  "kernelspec": {
   "display_name": "spacestream",
   "language": "python",
   "name": "spacestream"
  },
  "language_info": {
   "codemirror_mode": {
    "name": "ipython",
    "version": 3
   },
   "file_extension": ".py",
   "mimetype": "text/x-python",
   "name": "python",
   "nbconvert_exporter": "python",
   "pygments_lexer": "ipython3",
   "version": "3.7.17"
  }
 },
 "nbformat": 4,
 "nbformat_minor": 5
}
