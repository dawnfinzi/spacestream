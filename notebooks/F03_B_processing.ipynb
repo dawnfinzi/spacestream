{
 "cells": [
  {
   "cell_type": "code",
   "execution_count": null,
   "id": "be06d23d",
   "metadata": {},
   "outputs": [],
   "source": [
    "%load_ext blackcellmagic\n",
    "%load_ext autoreload\n",
    "%autoreload 2"
   ]
  },
  {
   "cell_type": "markdown",
   "id": "16e0d658",
   "metadata": {},
   "source": [
    "#### Imports and setup"
   ]
  },
  {
   "cell_type": "code",
   "execution_count": null,
   "id": "24d46e96",
   "metadata": {},
   "outputs": [],
   "source": [
    "import numpy as np\n",
    "import pandas as pd\n",
    "import h5py\n",
    "import nibabel.freesurfer.mghformat as mgh"
   ]
  },
  {
   "cell_type": "code",
   "execution_count": null,
   "id": "cc5cfd2a",
   "metadata": {},
   "outputs": [],
   "source": [
    "from spacestream.core.constants import SUBJECTS, CORE_ROI_NAMES\n",
    "from spacestream.core.paths import DATA_PATH, RESULTS_PATH\n",
    "from spacestream.utils.get_utils import get_mapping"
   ]
  },
  {
   "cell_type": "code",
   "execution_count": null,
   "id": "a0c1effd",
   "metadata": {},
   "outputs": [],
   "source": [
    "seeds = [0,1,2,3,4]\n",
    "hemis = [\"lh\",\"rh\"]\n",
    "model_types = [\n",
    "    \"MB_RN50_v2_detection\",\n",
    "    \"MB_RN50_v2_clip\",\n",
    "    \"MB_RN50_v2_categorization\",\n",
    "    \"MB_RN50_detection\",\n",
    "    \"MB_RN50_action\",\n",
    "    \"MB_RN50_categorization\",\n",
    "    \"MB_RN18_detection\",\n",
    "    \"MB_RN18_action\",\n",
    "    \"MB_RN18_categorization\",\n",
    "]\n",
    "checkpoint = \"checkpoint0\""
   ]
  },
  {
   "cell_type": "markdown",
   "id": "62d9872b",
   "metadata": {},
   "source": [
    "#### Load and format data"
   ]
  },
  {
   "cell_type": "code",
   "execution_count": null,
   "id": "f2609e24",
   "metadata": {},
   "outputs": [],
   "source": [
    "def correct_for_voxel_noise_ceiling(NC, mapping):\n",
    "\n",
    "    brain_r = np.sqrt(\n",
    "        NC[mapping[\"winning_idx\"].astype(int)] / 100\n",
    "    )  # convert from R^2 to r\n",
    "    mapping[\"winning_roi\"] = mapping[\"winning_roi\"].astype(np.float32)\n",
    "\n",
    "    if np.sum(np.isinf(mapping[\"winning_test_corr\"])) > 0:\n",
    "        mapping[\"winning_test_corr\"][np.isinf(mapping[\"winning_test_corr\"])] = np.nan\n",
    "\n",
    "    corrected = mapping[\"winning_test_corr\"] / brain_r\n",
    "    corrected[mapping[\"winning_test_corr\"] == 0] = np.nan\n",
    "\n",
    "    return corrected"
   ]
  },
  {
   "cell_type": "code",
   "execution_count": null,
   "id": "6f794068",
   "metadata": {},
   "outputs": [],
   "source": [
    "# read in data\n",
    "long = {\n",
    "    \"model_type\": [],\n",
    "    \"hemi\": [],\n",
    "    \"subject\": [],\n",
    "    \"ROIS\": [],\n",
    "    \"result\": [],\n",
    "}\n",
    "\n",
    "\n",
    "for hidx, hemi in enumerate(hemis):\n",
    "\n",
    "    for sidx, subj in enumerate(SUBJECTS):\n",
    "\n",
    "        # get ROI info\n",
    "        mgh_file = mgh.load(DATA_PATH + \"brains/\" + hemi + \".ministreams.mgz\")\n",
    "        streams = mgh_file.get_fdata()[:, 0, 0].astype(int)\n",
    "        # get noise ceiling estimates\n",
    "        mgh_file = mgh.load(\n",
    "            DATA_PATH + \"brains/NC/subj\" + subj + \"/\" + hemi + \".nc_3trials.mgh\"\n",
    "        )\n",
    "        NC = mgh_file.get_fdata()[:, 0, 0]\n",
    "        NC_trim = NC[streams != 0]\n",
    "        NC_trim[NC_trim == 0] = np.nan  # Set all 0s to nans to avoid dividing by 0\n",
    "\n",
    "        for mtype in model_types:\n",
    "\n",
    "            mapping = get_mapping(\n",
    "                subj_name=\"subj\" + str(subj),\n",
    "                model_seed=0,\n",
    "                hemi=hemi,\n",
    "                model_type = \"MB18\" if \"18\" in mtype else \"MB50_v2\" if \"50_v2\" in mtype else \"MB50\",\n",
    "                checkpoint=checkpoint,\n",
    "            )\n",
    "\n",
    "            corrected = correct_for_voxel_noise_ceiling(NC_trim, mapping)\n",
    "\n",
    "            for ridx, r in enumerate(CORE_ROI_NAMES):\n",
    "                long[\"model_type\"].append(mtype)\n",
    "                long[\"hemi\"].append(hemi)\n",
    "                long[\"subject\"].append(subj)\n",
    "                long[\"ROIS\"].append(r)\n",
    "\n",
    "                # Determine task type based on model name\n",
    "                if \"categorization\" in mtype:\n",
    "                    t = 0\n",
    "                elif \"action\" in mtype or \"clip\" in mtype:\n",
    "                    t = 1\n",
    "                else:\n",
    "                    t = 2\n",
    "\n",
    "                long[\"result\"].append(\n",
    "                    np.nanmean(\n",
    "                        corrected[\n",
    "                            (mapping[\"winning_roi\"] == ridx + 5)\n",
    "                            & (mapping[\"winning_task\"] == t)\n",
    "                        ]\n",
    "                    )\n",
    "                )"
   ]
  },
  {
   "cell_type": "code",
   "execution_count": null,
   "id": "18119330",
   "metadata": {},
   "outputs": [],
   "source": [
    "df = pd.DataFrame(long)\n",
    "df = df.sort_values('ROIS') #just to get the plotting order right"
   ]
  },
  {
   "cell_type": "code",
   "execution_count": null,
   "id": "8002ced2",
   "metadata": {},
   "outputs": [],
   "source": [
    "## load subject2subject estimates\n",
    "s2s_corrected_by_stream= np.zeros((len(SUBJECTS),len(seeds),len(CORE_ROI_NAMES), len(hemis)))\n",
    "\n",
    "for hidx, hemi in enumerate(hemis):\n",
    "    \n",
    "    for sidx, subj in enumerate(SUBJECTS):\n",
    "\n",
    "        for seedix, seed in enumerate(seeds):\n",
    "\n",
    "            load_path = (RESULTS_PATH\n",
    "                            + \"mappings/one_to_one/voxel2voxel/target_subj\"\n",
    "                            + subj\n",
    "                            + \"/mode_\"\n",
    "                            + hemi\n",
    "                            + \"_ministreams_HVA_only_radius5_max_iters100_constant_radius_2.0dist_cutoff_constant_dist_cutoff_spherical\"\n",
    "                            + (\"_CV_seed\" + str(seed))\n",
    "                            + \"_\"\n",
    "                            + checkpoint\n",
    "                            + \"_voxel2voxel_correlation_info.hdf5\"\n",
    "                        )\n",
    "            with h5py.File(load_path, \"r\") as f:\n",
    "\n",
    "                for r, ridx in enumerate(CORE_ROI_NAMES):\n",
    "                    s2s_corrected_by_stream[sidx,seedix,r,hidx] =  np.nanmean(f['corrected_test_corr'][:][f['winning_roi'][:] == (2-r)+5])\n",
    "across_seed_corrected_mean = np.mean(np.mean(s2s_corrected_by_stream,axis=-1),axis=1)"
   ]
  },
  {
   "cell_type": "code",
   "execution_count": null,
   "id": "c9257930",
   "metadata": {},
   "outputs": [],
   "source": [
    "across_seed_corrected_mean"
   ]
  },
  {
   "cell_type": "code",
   "execution_count": null,
   "id": "f9777746",
   "metadata": {},
   "outputs": [],
   "source": [
    "# Reformat data\n",
    "rows = []\n",
    "for i, roi in enumerate(CORE_ROI_NAMES[::-1]):\n",
    "    for j, subject in enumerate(SUBJECTS):\n",
    "        rows.append({\"subject\": subject, \"ROI\": roi, \"result\": across_seed_corrected_mean[j, i]})\n",
    "s2s_reformatted = pd.DataFrame(rows)"
   ]
  },
  {
   "cell_type": "code",
   "execution_count": null,
   "id": "c49d4763",
   "metadata": {},
   "outputs": [],
   "source": [
    "# Save the dataframes for matlab plotting function\n",
    "# matlab/F03_B.m\n",
    "\n",
    "s2s_reformatted.to_csv('/oak/stanford/groups/kalanit/biac2/kgs/projects/Dawn/SpaceStreamPaper/Revision/code/new_Fig3b_noiseCeiling_checkpoint0.csv', index=False)\n",
    "df.to_csv('/oak/stanford/groups/kalanit/biac2/kgs/projects/Dawn/SpaceStreamPaper/Revision/code/new_Fig3b_dataFrame_0420_checkpoint0.csv', index=False)\n"
   ]
  }
 ],
 "metadata": {
  "jupytext": {
   "formats": "ipynb,md"
  },
  "kernelspec": {
   "display_name": "spacestream_38",
   "language": "python",
   "name": "python3"
  },
  "language_info": {
   "codemirror_mode": {
    "name": "ipython",
    "version": 3
   },
   "file_extension": ".py",
   "mimetype": "text/x-python",
   "name": "python",
   "nbconvert_exporter": "python",
   "pygments_lexer": "ipython3",
   "version": "3.8.20"
  }
 },
 "nbformat": 4,
 "nbformat_minor": 5
}
