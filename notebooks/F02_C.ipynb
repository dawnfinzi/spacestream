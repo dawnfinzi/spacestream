{
 "cells": [
  {
   "cell_type": "code",
   "execution_count": null,
   "id": "be06d23d",
   "metadata": {},
   "outputs": [],
   "source": [
    "%load_ext blackcellmagic\n",
    "%load_ext autoreload\n",
    "%autoreload 2"
   ]
  },
  {
   "cell_type": "markdown",
   "id": "16e0d658",
   "metadata": {},
   "source": [
    "#### Imports and setup"
   ]
  },
  {
   "cell_type": "code",
   "execution_count": null,
   "id": "24d46e96",
   "metadata": {},
   "outputs": [],
   "source": [
    "import numpy as np\n",
    "import pandas as pd\n",
    "import h5py\n",
    "import nibabel.freesurfer.mghformat as mgh\n",
    "import matplotlib.pyplot as plt\n",
    "import seaborn as sns\n",
    "\n",
    "import statsmodels.formula.api as sm\n",
    "from statsmodels.stats.multitest import multipletests"
   ]
  },
  {
   "cell_type": "code",
   "execution_count": null,
   "id": "cc5cfd2a",
   "metadata": {},
   "outputs": [],
   "source": [
    "from spacestream.core.constants import SUBJECTS, CORE_ROI_NAMES, ROI_COLORS\n",
    "from spacestream.core.paths import DATA_PATH, RESULTS_PATH\n",
    "from spacestream.utils.general_utils import sem\n",
    "from spacestream.utils.get_utils import get_mapping"
   ]
  },
  {
   "cell_type": "code",
   "execution_count": null,
   "id": "a0c1effd",
   "metadata": {},
   "outputs": [],
   "source": [
    "seeds = [0,1,2,3,4]\n",
    "hemis = [\"lh\",\"rh\"]\n",
    "model_types = [\n",
    "    \"MB_RN50_detection\",\n",
    "    \"MB_RN50_action\",\n",
    "    \"MB_RN50_categorization\",\n",
    "    \"MB_RN18_detection\",\n",
    "    \"MB_RN18_action\",\n",
    "    \"MB_RN18_categorization\",\n",
    "    \"TDANN_Supervised\",\n",
    "    \"TDANN_SimCLR\",\n",
    "]"
   ]
  },
  {
   "cell_type": "markdown",
   "id": "62d9872b",
   "metadata": {},
   "source": [
    "#### Load and format data"
   ]
  },
  {
   "cell_type": "code",
   "execution_count": null,
   "id": "f2609e24",
   "metadata": {},
   "outputs": [],
   "source": [
    "def correct_for_voxel_noise_ceiling(NC, mapping):\n",
    "\n",
    "    brain_r = np.sqrt(\n",
    "        NC[mapping[\"winning_idx\"].astype(int)] / 100\n",
    "    )  # convert from R^2 to r\n",
    "    mapping[\"winning_roi\"] = mapping[\"winning_roi\"].astype(np.float32)\n",
    "\n",
    "    if np.sum(np.isinf(mapping[\"winning_test_corr\"])) > 0:\n",
    "        mapping[\"winning_test_corr\"][np.isinf(info[\"winning_test_corr\"])] = np.nan\n",
    "\n",
    "    corrected = mapping[\"winning_test_corr\"] / brain_r\n",
    "    corrected[mapping[\"winning_test_corr\"] == 0] = np.nan\n",
    "\n",
    "    return corrected"
   ]
  },
  {
   "cell_type": "code",
   "execution_count": null,
   "id": "6f794068",
   "metadata": {},
   "outputs": [],
   "source": [
    "# read in data\n",
    "long = {\n",
    "    \"model_type\": [],\n",
    "    \"hemi\": [],\n",
    "    \"subject\": [],\n",
    "    \"ROIS\": [],\n",
    "    \"result\": [],\n",
    "}\n",
    "\n",
    "\n",
    "for hidx, hemi in enumerate(hemis):\n",
    "\n",
    "    for sidx, subj in enumerate(SUBJECTS):\n",
    "\n",
    "        # get ROI info\n",
    "        mgh_file = mgh.load(DATA_PATH + \"brains/\" + hemi + \".ministreams.mgz\")\n",
    "        streams = mgh_file.get_fdata()[:, 0, 0].astype(int)\n",
    "        # get noise ceiling estimates\n",
    "        mgh_file = mgh.load(\n",
    "            DATA_PATH + \"brains/NC/subj\" + subj + \"/\" + hemi + \".nc_3trials.mgh\"\n",
    "        )\n",
    "        NC = mgh_file.get_fdata()[:, 0, 0]\n",
    "        NC_trim = NC[streams != 0]\n",
    "        NC_trim[NC_trim == 0] = np.nan  # Set all 0s to nans to avoid dividing by 0\n",
    "\n",
    "        for mtype in model_types:\n",
    "\n",
    "            if \"TDANN\" in mtype:\n",
    "                supervised = 1 if \"Supervised\" in mtype else 0\n",
    "                sw = \"2.5\" if \"Supervised\" in mtype else \"0.25\"\n",
    "                temp_by_seed = np.zeros((len(seeds),3))\n",
    "                for midx, seed in enumerate(seeds):\n",
    "                    mapping = get_mapping(\n",
    "                        subj_name=\"subj\" + str(subj),\n",
    "                        spatial_weight=sw,\n",
    "                        model_seed=seed,\n",
    "                        supervised=supervised,\n",
    "                        hemi=hemi,\n",
    "                    )\n",
    "                    corrected = correct_for_voxel_noise_ceiling(NC_trim, mapping)\n",
    "                    for ridx, r in enumerate(CORE_ROI_NAMES):\n",
    "                        temp_by_seed[midx, ridx] = np.nanmean(\n",
    "                            corrected[mapping[\"winning_roi\"] == ridx + 5]\n",
    "                        )\n",
    "\n",
    "            else:  # not TDANNs\n",
    "                mapping = get_mapping(\n",
    "                    subj_name=\"subj\" + str(subj),\n",
    "                    model_seed=0,\n",
    "                    hemi=hemi,\n",
    "                    model_type=\"MB18\" if \"18\" in mtype else \"MB50\",\n",
    "                )\n",
    "\n",
    "                corrected = correct_for_voxel_noise_ceiling(NC_trim, mapping)\n",
    "\n",
    "            for ridx, r in enumerate(CORE_ROI_NAMES):\n",
    "                long[\"model_type\"].append(mtype)\n",
    "                long[\"hemi\"].append(hemi)\n",
    "                long[\"subject\"].append(subj)\n",
    "                long[\"ROIS\"].append(r)\n",
    "\n",
    "                if \"MB\" not in mtype:\n",
    "                    long[\"result\"].append(\n",
    "                        np.nanmean(\n",
    "                            temp_by_seed[:,ridx],\n",
    "                            axis=0,\n",
    "                        )\n",
    "                    )  # mean across seeds\n",
    "\n",
    "                else:\n",
    "                    if \"categorization\" in mtype:\n",
    "                        t = 0\n",
    "                    elif \"action\" in mtype:\n",
    "                        t = 1\n",
    "                    else:\n",
    "                        t = 2\n",
    "\n",
    "                    long[\"result\"].append(\n",
    "                        np.nanmean(\n",
    "                            corrected[\n",
    "                                (mapping[\"winning_roi\"] == ridx + 5)\n",
    "                                & (mapping[\"winning_task\"] == t)\n",
    "                            ]\n",
    "                        )\n",
    "                    )"
   ]
  },
  {
   "cell_type": "code",
   "execution_count": null,
   "id": "18119330",
   "metadata": {},
   "outputs": [],
   "source": [
    "df = pd.DataFrame(long)\n",
    "df = df.sort_values('ROIS') #just to get the plotting order right"
   ]
  },
  {
   "cell_type": "code",
   "execution_count": null,
   "id": "8002ced2",
   "metadata": {},
   "outputs": [],
   "source": [
    "## load subject2subject estimates\n",
    "s2s_corrected_by_stream= np.zeros((len(SUBJECTS),len(seeds),len(CORE_ROI_NAMES), len(hemis)))\n",
    "\n",
    "for hidx, hemi in enumerate(hemis):\n",
    "    \n",
    "    for sidx, subj in enumerate(SUBJECTS):\n",
    "\n",
    "        for seedix, seed in enumerate(seeds):\n",
    "\n",
    "            load_path = (RESULTS_PATH\n",
    "                            + \"mappings/one_to_one/voxel2voxel/target_subj\"\n",
    "                            + subj\n",
    "                            + \"/mode_\"\n",
    "                            + hemi\n",
    "                            + \"_ministreams_HVA_only_radius5_max_iters100_constant_radius_2.0dist_cutoff_constant_dist_cutoff_spherical\"\n",
    "                            + (\"_CV_seed\" + str(seed))\n",
    "                            + \"_final_voxel2voxel_correlation_info.hdf5\"\n",
    "                        )\n",
    "            with h5py.File(load_path, \"r\") as f:\n",
    "\n",
    "                for r, ridx in enumerate(CORE_ROI_NAMES):\n",
    "                    s2s_corrected_by_stream[sidx,seedix,r,hidx] =  np.nanmean(f['corrected_test_corr'][:][f['winning_roi'][:] == (2-r)+5])\n",
    "across_seed_corrected_mean = np.mean(np.mean(s2s_corrected_by_stream,axis=-1),axis=1)"
   ]
  },
  {
   "cell_type": "code",
   "execution_count": null,
   "id": "c9257930",
   "metadata": {},
   "outputs": [],
   "source": [
    "across_seed_corrected_mean"
   ]
  },
  {
   "cell_type": "markdown",
   "id": "ef6d48eb",
   "metadata": {},
   "source": [
    "#### Plotting"
   ]
  },
  {
   "cell_type": "code",
   "execution_count": null,
   "id": "64b29036",
   "metadata": {},
   "outputs": [],
   "source": [
    "sns.set_theme(style=\"ticks\")\n",
    "for gidx, group in enumerate(model_types):\n",
    "\n",
    "    group_df = df[df[\"model_type\"].isin([group])]\n",
    "    fig, ax = plt.subplots(figsize=(1, 5))\n",
    "    sns.barplot(\n",
    "        x=\"model_type\",\n",
    "        y=\"result\",\n",
    "        hue=\"ROIS\",\n",
    "        palette=ROI_COLORS,\n",
    "        data=group_df,\n",
    "        ax=ax,\n",
    "        errorbar=\"se\",\n",
    "        errwidth=2,\n",
    "        linewidth=3,\n",
    "    )\n",
    "    sns.stripplot(\n",
    "        x=\"model_type\",\n",
    "        y=\"result\",\n",
    "        hue=\"ROIS\",\n",
    "        palette=ROI_COLORS,\n",
    "        data=group_df[group_df[\"hemi\"].isin([\"lh\"])],\n",
    "        marker=\"^\",\n",
    "        ax=ax,\n",
    "        size=5,\n",
    "        dodge=True,\n",
    "    )\n",
    "    sns.stripplot(\n",
    "        x=\"model_type\",\n",
    "        y=\"result\",\n",
    "        hue=\"ROIS\",\n",
    "        palette=ROI_COLORS,\n",
    "        data=group_df[group_df[\"hemi\"].isin([\"rh\"])],\n",
    "        ax=ax,\n",
    "        size=5,\n",
    "        dodge=True,\n",
    "    )\n",
    "\n",
    "    for points in ax.collections:\n",
    "\n",
    "        points.set_edgecolor(\"white\")\n",
    "        points.set_linewidth(0.75)\n",
    "\n",
    "    # subj2subj NC bars\n",
    "    xmin = 0.1\n",
    "    xmax = 0.28\n",
    "    for ridx, ROI in enumerate(CORE_ROI_NAMES):\n",
    "        vals = across_seed_corrected_mean[:, ridx]\n",
    "        y1 = np.mean(vals) - sem(vals)\n",
    "        y2 = np.mean(vals) + sem(vals)\n",
    "        ax.axhspan(\n",
    "            y1,\n",
    "            y2,\n",
    "            xmin=xmin + (ridx * 0.26),\n",
    "            xmax=xmax + (ridx * 0.26),\n",
    "            alpha=0.9,\n",
    "            color=\"lightgray\",  # oi_palette[ridx], alpha=0.2\n",
    "        )\n",
    "\n",
    "    ax.legend([], [], frameon=False)\n",
    "\n",
    "    ax.set_xlabel(\"\", fontsize=20)\n",
    "    ax.set_ylabel(\"Functional similarity (r)\", fontsize=15)\n",
    "    ax.tick_params(labelsize=15)\n",
    "    ax.axhline(33, c=\"k\", linestyle=\"--\")\n",
    "\n",
    "    ax.spines[\"right\"].set_visible(False)\n",
    "    ax.spines[\"top\"].set_visible(False)\n",
    "    plt.ylim(bottom = 0.0, top=0.4)\n",
    "    \n",
    "    #save_path = RESULTS_PATH + \"figures/2c_\" + group + \".svg\"\n",
    "    #\n",
    "    # fig.savefig(save_path, dpi=100)"
   ]
  },
  {
   "cell_type": "code",
   "execution_count": null,
   "id": "8581964c",
   "metadata": {},
   "outputs": [],
   "source": [
    "d_sub = across_seed_corrected_mean[:,0]\n",
    "l_sub = across_seed_corrected_mean[:,1]\n",
    "v_sub = across_seed_corrected_mean[:,2]"
   ]
  },
  {
   "cell_type": "markdown",
   "id": "d0883494",
   "metadata": {},
   "source": [
    "#### Statistics"
   ]
  },
  {
   "cell_type": "code",
   "execution_count": null,
   "id": "fc582aad",
   "metadata": {},
   "outputs": [],
   "source": [
    "# object categorization is the best \"multi-behavior model\" for all three streams so we will use only those values for stats\n",
    "df = df[\n",
    "    df[\"model_type\"].isin(\n",
    "        [\n",
    "            \"MB_RN18_categorization\",\n",
    "            \"MB_RN50_categorization\",\n",
    "            \"TDANN_Supervised\",\n",
    "            \"TDANN_SimCLR\",\n",
    "        ]\n",
    "    )\n",
    "]\n",
    "df = df.replace(\"MB_RN18_categorization\", value=\"MB18\")\n",
    "df = df.replace(\"MB_RN50_categorization\", value=\"MB50\")\n",
    "\n",
    "# set up separate models by ROI\n",
    "dorsal_df = df[df[\"ROIS\"] == \"Dorsal\"]\n",
    "lateral_df = df[df[\"ROIS\"] == \"Lateral\"]\n",
    "ventral_df = df[df[\"ROIS\"] == \"Ventral\"]"
   ]
  },
  {
   "cell_type": "code",
   "execution_count": null,
   "id": "46ef5206",
   "metadata": {},
   "outputs": [],
   "source": [
    "d_m = dorsal_df[dorsal_df[\"model_type\"]==\"MB18\"].groupby('subject')['result'].mean().reset_index()['result']\n",
    "l_m = lateral_df[lateral_df[\"model_type\"]==\"MB18\"].groupby('subject')['result'].mean().reset_index()['result']\n",
    "v_m = ventral_df[ventral_df[\"model_type\"]==\"MB18\"].groupby('subject')['result'].mean().reset_index()['result']"
   ]
  },
  {
   "cell_type": "code",
   "execution_count": null,
   "id": "dcd50edd",
   "metadata": {},
   "outputs": [],
   "source": [
    "from scipy.stats import ttest_rel"
   ]
  },
  {
   "cell_type": "code",
   "execution_count": null,
   "id": "0291f050",
   "metadata": {},
   "outputs": [],
   "source": [
    "print(ttest_rel(d_m,d_sub)[1]*18)\n",
    "print(ttest_rel(l_m,l_sub)[1]*18)\n",
    "print(ttest_rel(v_m,v_sub)[1]*18)"
   ]
  },
  {
   "cell_type": "code",
   "execution_count": null,
   "id": "f86b9d35",
   "metadata": {},
   "outputs": [],
   "source": [
    "# Dorsal\n",
    "dorsal_mod = sm.mixedlm('result~model_type', data = dorsal_df, groups=dorsal_df[\"subject\"]).fit()\n",
    "print(dorsal_mod.summary())\n",
    "\n",
    "res = pd.concat([dorsal_mod.params,dorsal_mod.pvalues],axis=1)\n",
    "res.columns=['coefficient','pvalues']\n",
    "print(res)\n",
    "res = res[res.index.str.contains('model_type')]\n",
    "res['corrected_p'] = multipletests(res['pvalues'],method=\"bonferroni\")[1]\n",
    "print(res)"
   ]
  },
  {
   "cell_type": "code",
   "execution_count": null,
   "id": "afc70109",
   "metadata": {},
   "outputs": [],
   "source": [
    "# Lateral\n",
    "lateral_mod = sm.mixedlm('result~model_type', data = lateral_df, groups=lateral_df[\"subject\"]).fit()\n",
    "print(lateral_mod.summary())\n",
    "\n",
    "res = pd.concat([lateral_mod.params,lateral_mod.pvalues],axis=1)\n",
    "res.columns=['coefficient','pvalues']\n",
    "print(res)\n",
    "\n",
    "res = res[res.index.str.contains('model_type')]\n",
    "\n",
    "res['corrected_p'] = multipletests(res['pvalues'],method=\"bonferroni\")[1]\n",
    "print(res)"
   ]
  },
  {
   "cell_type": "code",
   "execution_count": null,
   "id": "e94e1587",
   "metadata": {},
   "outputs": [],
   "source": [
    "# Ventral\n",
    "ventral_mod = sm.mixedlm('result~model_type', data = ventral_df, groups=ventral_df[\"subject\"]).fit()\n",
    "print(ventral_mod.summary())\n",
    "\n",
    "res = pd.concat([ventral_mod.params,ventral_mod.pvalues],axis=1)\n",
    "res.columns=['coefficient','pvalues']\n",
    "print(res)\n",
    "\n",
    "res = res[res.index.str.contains('model_type')]\n",
    "\n",
    "res['corrected_p'] = multipletests(res['pvalues'],method=\"bonferroni\")[1]\n",
    "print(res)"
   ]
  },
  {
   "cell_type": "code",
   "execution_count": null,
   "id": "45ed24c5",
   "metadata": {},
   "outputs": [],
   "source": []
  }
 ],
 "metadata": {
  "jupytext": {
   "formats": "ipynb,md"
  },
  "kernelspec": {
   "display_name": "spacestream_38",
   "language": "python",
   "name": "python3"
  },
  "language_info": {
   "codemirror_mode": {
    "name": "ipython",
    "version": 3
   },
   "file_extension": ".py",
   "mimetype": "text/x-python",
   "name": "python",
   "nbconvert_exporter": "python",
   "pygments_lexer": "ipython3",
   "version": "3.8.20"
  }
 },
 "nbformat": 4,
 "nbformat_minor": 5
}
